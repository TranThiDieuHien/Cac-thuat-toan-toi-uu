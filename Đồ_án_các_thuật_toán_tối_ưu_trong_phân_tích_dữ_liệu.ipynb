{
  "nbformat": 4,
  "nbformat_minor": 0,
  "metadata": {
    "colab": {
      "provenance": [],
      "authorship_tag": "ABX9TyNOsPdzrdMcSm5a3cbSJCW9",
      "include_colab_link": true
    },
    "kernelspec": {
      "name": "python3",
      "display_name": "Python 3"
    },
    "language_info": {
      "name": "python"
    }
  },
  "cells": [
    {
      "cell_type": "markdown",
      "metadata": {
        "id": "view-in-github",
        "colab_type": "text"
      },
      "source": [
        "<a href=\"https://colab.research.google.com/github/TranThiDieuHien/Cac-thuat-toan-toi-uu/blob/main/%C4%90%E1%BB%93_%C3%A1n_c%C3%A1c_thu%E1%BA%ADt_to%C3%A1n_t%E1%BB%91i_%C6%B0u_trong_ph%C3%A2n_t%C3%ADch_d%E1%BB%AF_li%E1%BB%87u.ipynb\" target=\"_parent\"><img src=\"https://colab.research.google.com/assets/colab-badge.svg\" alt=\"Open In Colab\"/></a>"
      ]
    },
    {
      "cell_type": "code",
      "execution_count": 5,
      "metadata": {
        "id": "39MqihO1txVd"
      },
      "outputs": [],
      "source": [
        "#import thư viện\n",
        "import numpy as np # linear algebra\n",
        "import pandas as pd # data processing, CSV file I/O (e.g. pd.read_csv)\n",
        "from scipy import stats\n",
        "import seaborn as sns\n",
        "from matplotlib import pyplot as plt\n",
        "import statsmodels.api as sm\n",
        "%matplotlib inline\n",
        "plt.rcParams['figure.figsize'] = [16, 9]\n",
        "plt.rcParams['figure.dpi'] = 50\n",
        "plt.rcParams.update({'font.size': 18})\n",
        "import os\n",
        "import string\n",
        "from scipy.stats import norm\n",
        "\n",
        "from wordcloud import WordCloud,STOPWORDS\n",
        "stopwords = list(STOPWORDS)\n",
        "from nltk.sentiment.vader import SentimentIntensityAnalyzer\n",
        "from sklearn.naive_bayes import GaussianNB\n",
        "from sklearn.ensemble import RandomForestClassifier\n",
        "from sklearn.tree import DecisionTreeClassifier\n",
        "from sklearn.metrics import classification_report\n",
        "from sklearn.model_selection import train_test_split\n",
        "from sklearn.metrics import confusion_matrix,accuracy_score\n",
        "from sklearn.decomposition import TruncatedSVD\n",
        "from sklearn.feature_extraction.text import CountVectorizer as CVTZ\n",
        "\n",
        "from nltk.stem import WordNetLemmatizer\n",
        "from nltk.corpus import stopwords\n",
        "from nltk.stem.porter import PorterStemmer\n",
        "from nltk import word_tokenize\n",
        "from sklearn.feature_extraction.text import CountVectorizer\n"
      ]
    },
    {
      "cell_type": "markdown",
      "source": [
        "## **PHÂN TÍCH MÔ TẢ**"
      ],
      "metadata": {
        "id": "65JzL8RiWEyn"
      }
    },
    {
      "cell_type": "markdown",
      "source": [
        "HOTEL INFORMATION"
      ],
      "metadata": {
        "id": "6L7OK_CTwtfA"
      }
    },
    {
      "cell_type": "code",
      "source": [
        "#doc file\n",
        "data = pd.read_csv(\"ThuaThienHue_Infor.csv\")"
      ],
      "metadata": {
        "id": "WRv-aO45t5M0"
      },
      "execution_count": 6,
      "outputs": []
    },
    {
      "cell_type": "code",
      "source": [
        "data.sample(10)"
      ],
      "metadata": {
        "id": "nTnK2HpNxCn8",
        "colab": {
          "base_uri": "https://localhost:8080/",
          "height": 1000
        },
        "outputId": "8dc4906e-e9cf-4139-f7c5-a5846ba8cd5f"
      },
      "execution_count": 7,
      "outputs": [
        {
          "output_type": "execute_result",
          "data": {
            "text/plain": [
              "                                              HAddress  HAttractions  HGFW  \\\n",
              "91   Lot 3, QL49, Phu Thuong, Ngoc Anh, Hue 530000 ...           3.0  39.0   \n",
              "175                   79 Thich Tinh Khiet, Hue Vietnam           6.0  48.0   \n",
              "599  Long Ho Ha village Land 23, Huong Tra, Hue Vie...           0.0   NaN   \n",
              "646                 6 Tran Anh Lien, Hue 52000 Vietnam          18.0  66.0   \n",
              "488                    39 Nyugen Cong Tru, Hue Vietnam          26.0  92.0   \n",
              "554            11B Nguyen Cong Tru, Hue 530000 Vietnam          26.0  94.0   \n",
              "498     84-86 Street 2 An Cuu Ward, Hue 530000 Vietnam           0.0  41.0   \n",
              "480  35 Nguyen Luong Bang, Phuong Phu Hoi, Hue Vietnam           5.0  70.0   \n",
              "181                      45 Pham Van Dong, Hue Vietnam           5.0  48.0   \n",
              "540                  41 Chu Van An Street, Hue Vietnam          27.0  93.0   \n",
              "\n",
              "     HImages                             HLanguage                   HName  \\\n",
              "91       NaN                                   NaN       Ha Anh Guesthouse   \n",
              "175      NaN                                   NaN   Thanh Lich Guesthouse   \n",
              "599     76.0  English, French, Spanish, Vietnamese  Tam Tinh Vien Homestay   \n",
              "646      NaN                                   NaN        Golden Inn Hotel   \n",
              "488      NaN                   English, Vietnamese         Bao Son 1 Hotel   \n",
              "554     16.0                                   NaN           Carnosa Hotel   \n",
              "498      NaN                                   NaN       Hue Budget Hostel   \n",
              "480      NaN                                   NaN    Nguyen Hung Homestay   \n",
              "181      NaN                            Vietnamese       Giang Ngoc Hostel   \n",
              "540     10.0    English, French, Chinese, Japanese           Mintea Hostel   \n",
              "\n",
              "    HPMax HPMin    HPRange                                         HQuestions  \\\n",
              "91    NaN   NaN        NaN  Which popular attractions are close to Ha Anh ...   \n",
              "175   NaN   NaN        NaN  Which popular attractions are close to Thanh L...   \n",
              "599  $43   $29   $29 - $43  Which popular attractions are close to Tam Tin...   \n",
              "646   NaN   NaN        NaN  Which popular attractions are close to Golden ...   \n",
              "488  $19   $18   $18 - $19  Which popular attractions are close to Bao Son...   \n",
              "554  $20   $11   $11 - $20  Which popular attractions are close to Carnosa...   \n",
              "498  $21   $15   $15 - $21  What are some of the property amenities at Hue...   \n",
              "480  $27   $17   $17 - $27  Which popular attractions are close to Nguyen ...   \n",
              "181   NaN   NaN        NaN  Which popular attractions are close to Giang N...   \n",
              "540  $15   $14   $14 - $15  Which popular attractions are close to Mintea ...   \n",
              "\n",
              "     ...  HRNumber                                HRank HRankreview  HRating  \\\n",
              "91   ...         0                                  NaN         0.0      NaN   \n",
              "175  ...         0                                  NaN         0.0      NaN   \n",
              "599  ...        96        #10 of 183 B&Bs / Inns in Hue         5.0      3.0   \n",
              "646  ...         3             #96 of 209 hotels in Hue        50.0      NaN   \n",
              "488  ...         2        #50 of 183 B&Bs / Inns in Hue         5.0      1.0   \n",
              "554  ...        42        #27 of 183 B&Bs / Inns in Hue         4.0      2.0   \n",
              "498  ...       NaN                                  NaN         NaN      NaN   \n",
              "480  ...       NaN                                  NaN         NaN      NaN   \n",
              "181  ...         0                                  NaN         0.0      NaN   \n",
              "540  ...        30  #36 of 267 Specialty lodging in Hue         4.5      NaN   \n",
              "\n",
              "     HRestaurants    HReview HRoom            HStyles HVideos  \\\n",
              "91           10.0        NaN     5                NaN     0.0   \n",
              "175          23.0        NaN     6                NaN     0.0   \n",
              "599           0.0  Excellent     4  Romantic,Charming     6.0   \n",
              "646         113.0  Excellent    15                NaN     NaN   \n",
              "488         138.0  Excellent    16             Budget     NaN   \n",
              "554         135.0  Very good    40             Family    12.0   \n",
              "498          12.0        NaN    11                NaN     NaN   \n",
              "480          20.0        NaN   Hue                NaN     NaN   \n",
              "181          22.0        NaN     5                NaN     0.0   \n",
              "540         168.0  Excellent     5             Budget     4.0   \n",
              "\n",
              "                                                   URL  \n",
              "91   https://www.tripadvisor.com/Hotel_Review-g2939...  \n",
              "175  https://www.tripadvisor.com/Hotel_Review-g2939...  \n",
              "599  https://www.tripadvisor.com/Hotel_Review-g2939...  \n",
              "646  https://www.tripadvisor.com/Hotel_Review-g2939...  \n",
              "488  https://www.tripadvisor.com/Hotel_Review-g2939...  \n",
              "554  https://www.tripadvisor.com/Hotel_Review-g2939...  \n",
              "498  https://www.tripadvisor.com/Hotel_Review-g2939...  \n",
              "480  https://www.tripadvisor.com/Hotel_Review-g2939...  \n",
              "181  https://www.tripadvisor.com/Hotel_Review-g2939...  \n",
              "540  https://www.tripadvisor.com/Hotel_Review-g2939...  \n",
              "\n",
              "[10 rows x 21 columns]"
            ],
            "text/html": [
              "\n",
              "  <div id=\"df-975e8b9c-a520-474a-a9f0-f3c7d5a2896c\" class=\"colab-df-container\">\n",
              "    <div>\n",
              "<style scoped>\n",
              "    .dataframe tbody tr th:only-of-type {\n",
              "        vertical-align: middle;\n",
              "    }\n",
              "\n",
              "    .dataframe tbody tr th {\n",
              "        vertical-align: top;\n",
              "    }\n",
              "\n",
              "    .dataframe thead th {\n",
              "        text-align: right;\n",
              "    }\n",
              "</style>\n",
              "<table border=\"1\" class=\"dataframe\">\n",
              "  <thead>\n",
              "    <tr style=\"text-align: right;\">\n",
              "      <th></th>\n",
              "      <th>HAddress</th>\n",
              "      <th>HAttractions</th>\n",
              "      <th>HGFW</th>\n",
              "      <th>HImages</th>\n",
              "      <th>HLanguage</th>\n",
              "      <th>HName</th>\n",
              "      <th>HPMax</th>\n",
              "      <th>HPMin</th>\n",
              "      <th>HPRange</th>\n",
              "      <th>HQuestions</th>\n",
              "      <th>...</th>\n",
              "      <th>HRNumber</th>\n",
              "      <th>HRank</th>\n",
              "      <th>HRankreview</th>\n",
              "      <th>HRating</th>\n",
              "      <th>HRestaurants</th>\n",
              "      <th>HReview</th>\n",
              "      <th>HRoom</th>\n",
              "      <th>HStyles</th>\n",
              "      <th>HVideos</th>\n",
              "      <th>URL</th>\n",
              "    </tr>\n",
              "  </thead>\n",
              "  <tbody>\n",
              "    <tr>\n",
              "      <th>91</th>\n",
              "      <td>Lot 3, QL49, Phu Thuong, Ngoc Anh, Hue 530000 ...</td>\n",
              "      <td>3.0</td>\n",
              "      <td>39.0</td>\n",
              "      <td>NaN</td>\n",
              "      <td>NaN</td>\n",
              "      <td>Ha Anh Guesthouse</td>\n",
              "      <td>NaN</td>\n",
              "      <td>NaN</td>\n",
              "      <td>NaN</td>\n",
              "      <td>Which popular attractions are close to Ha Anh ...</td>\n",
              "      <td>...</td>\n",
              "      <td>0</td>\n",
              "      <td>NaN</td>\n",
              "      <td>0.0</td>\n",
              "      <td>NaN</td>\n",
              "      <td>10.0</td>\n",
              "      <td>NaN</td>\n",
              "      <td>5</td>\n",
              "      <td>NaN</td>\n",
              "      <td>0.0</td>\n",
              "      <td>https://www.tripadvisor.com/Hotel_Review-g2939...</td>\n",
              "    </tr>\n",
              "    <tr>\n",
              "      <th>175</th>\n",
              "      <td>79 Thich Tinh Khiet, Hue Vietnam</td>\n",
              "      <td>6.0</td>\n",
              "      <td>48.0</td>\n",
              "      <td>NaN</td>\n",
              "      <td>NaN</td>\n",
              "      <td>Thanh Lich Guesthouse</td>\n",
              "      <td>NaN</td>\n",
              "      <td>NaN</td>\n",
              "      <td>NaN</td>\n",
              "      <td>Which popular attractions are close to Thanh L...</td>\n",
              "      <td>...</td>\n",
              "      <td>0</td>\n",
              "      <td>NaN</td>\n",
              "      <td>0.0</td>\n",
              "      <td>NaN</td>\n",
              "      <td>23.0</td>\n",
              "      <td>NaN</td>\n",
              "      <td>6</td>\n",
              "      <td>NaN</td>\n",
              "      <td>0.0</td>\n",
              "      <td>https://www.tripadvisor.com/Hotel_Review-g2939...</td>\n",
              "    </tr>\n",
              "    <tr>\n",
              "      <th>599</th>\n",
              "      <td>Long Ho Ha village Land 23, Huong Tra, Hue Vie...</td>\n",
              "      <td>0.0</td>\n",
              "      <td>NaN</td>\n",
              "      <td>76.0</td>\n",
              "      <td>English, French, Spanish, Vietnamese</td>\n",
              "      <td>Tam Tinh Vien Homestay</td>\n",
              "      <td>$43</td>\n",
              "      <td>$29</td>\n",
              "      <td>$29 - $43</td>\n",
              "      <td>Which popular attractions are close to Tam Tin...</td>\n",
              "      <td>...</td>\n",
              "      <td>96</td>\n",
              "      <td>#10 of 183 B&amp;Bs / Inns in Hue</td>\n",
              "      <td>5.0</td>\n",
              "      <td>3.0</td>\n",
              "      <td>0.0</td>\n",
              "      <td>Excellent</td>\n",
              "      <td>4</td>\n",
              "      <td>Romantic,Charming</td>\n",
              "      <td>6.0</td>\n",
              "      <td>https://www.tripadvisor.com/Hotel_Review-g2939...</td>\n",
              "    </tr>\n",
              "    <tr>\n",
              "      <th>646</th>\n",
              "      <td>6 Tran Anh Lien, Hue 52000 Vietnam</td>\n",
              "      <td>18.0</td>\n",
              "      <td>66.0</td>\n",
              "      <td>NaN</td>\n",
              "      <td>NaN</td>\n",
              "      <td>Golden Inn Hotel</td>\n",
              "      <td>NaN</td>\n",
              "      <td>NaN</td>\n",
              "      <td>NaN</td>\n",
              "      <td>Which popular attractions are close to Golden ...</td>\n",
              "      <td>...</td>\n",
              "      <td>3</td>\n",
              "      <td>#96 of 209 hotels in Hue</td>\n",
              "      <td>50.0</td>\n",
              "      <td>NaN</td>\n",
              "      <td>113.0</td>\n",
              "      <td>Excellent</td>\n",
              "      <td>15</td>\n",
              "      <td>NaN</td>\n",
              "      <td>NaN</td>\n",
              "      <td>https://www.tripadvisor.com/Hotel_Review-g2939...</td>\n",
              "    </tr>\n",
              "    <tr>\n",
              "      <th>488</th>\n",
              "      <td>39 Nyugen Cong Tru, Hue Vietnam</td>\n",
              "      <td>26.0</td>\n",
              "      <td>92.0</td>\n",
              "      <td>NaN</td>\n",
              "      <td>English, Vietnamese</td>\n",
              "      <td>Bao Son 1 Hotel</td>\n",
              "      <td>$19</td>\n",
              "      <td>$18</td>\n",
              "      <td>$18 - $19</td>\n",
              "      <td>Which popular attractions are close to Bao Son...</td>\n",
              "      <td>...</td>\n",
              "      <td>2</td>\n",
              "      <td>#50 of 183 B&amp;Bs / Inns in Hue</td>\n",
              "      <td>5.0</td>\n",
              "      <td>1.0</td>\n",
              "      <td>138.0</td>\n",
              "      <td>Excellent</td>\n",
              "      <td>16</td>\n",
              "      <td>Budget</td>\n",
              "      <td>NaN</td>\n",
              "      <td>https://www.tripadvisor.com/Hotel_Review-g2939...</td>\n",
              "    </tr>\n",
              "    <tr>\n",
              "      <th>554</th>\n",
              "      <td>11B Nguyen Cong Tru, Hue 530000 Vietnam</td>\n",
              "      <td>26.0</td>\n",
              "      <td>94.0</td>\n",
              "      <td>16.0</td>\n",
              "      <td>NaN</td>\n",
              "      <td>Carnosa Hotel</td>\n",
              "      <td>$20</td>\n",
              "      <td>$11</td>\n",
              "      <td>$11 - $20</td>\n",
              "      <td>Which popular attractions are close to Carnosa...</td>\n",
              "      <td>...</td>\n",
              "      <td>42</td>\n",
              "      <td>#27 of 183 B&amp;Bs / Inns in Hue</td>\n",
              "      <td>4.0</td>\n",
              "      <td>2.0</td>\n",
              "      <td>135.0</td>\n",
              "      <td>Very good</td>\n",
              "      <td>40</td>\n",
              "      <td>Family</td>\n",
              "      <td>12.0</td>\n",
              "      <td>https://www.tripadvisor.com/Hotel_Review-g2939...</td>\n",
              "    </tr>\n",
              "    <tr>\n",
              "      <th>498</th>\n",
              "      <td>84-86 Street 2 An Cuu Ward, Hue 530000 Vietnam</td>\n",
              "      <td>0.0</td>\n",
              "      <td>41.0</td>\n",
              "      <td>NaN</td>\n",
              "      <td>NaN</td>\n",
              "      <td>Hue Budget Hostel</td>\n",
              "      <td>$21</td>\n",
              "      <td>$15</td>\n",
              "      <td>$15 - $21</td>\n",
              "      <td>What are some of the property amenities at Hue...</td>\n",
              "      <td>...</td>\n",
              "      <td>NaN</td>\n",
              "      <td>NaN</td>\n",
              "      <td>NaN</td>\n",
              "      <td>NaN</td>\n",
              "      <td>12.0</td>\n",
              "      <td>NaN</td>\n",
              "      <td>11</td>\n",
              "      <td>NaN</td>\n",
              "      <td>NaN</td>\n",
              "      <td>https://www.tripadvisor.com/Hotel_Review-g2939...</td>\n",
              "    </tr>\n",
              "    <tr>\n",
              "      <th>480</th>\n",
              "      <td>35 Nguyen Luong Bang, Phuong Phu Hoi, Hue Vietnam</td>\n",
              "      <td>5.0</td>\n",
              "      <td>70.0</td>\n",
              "      <td>NaN</td>\n",
              "      <td>NaN</td>\n",
              "      <td>Nguyen Hung Homestay</td>\n",
              "      <td>$27</td>\n",
              "      <td>$17</td>\n",
              "      <td>$17 - $27</td>\n",
              "      <td>Which popular attractions are close to Nguyen ...</td>\n",
              "      <td>...</td>\n",
              "      <td>NaN</td>\n",
              "      <td>NaN</td>\n",
              "      <td>NaN</td>\n",
              "      <td>NaN</td>\n",
              "      <td>20.0</td>\n",
              "      <td>NaN</td>\n",
              "      <td>Hue</td>\n",
              "      <td>NaN</td>\n",
              "      <td>NaN</td>\n",
              "      <td>https://www.tripadvisor.com/Hotel_Review-g2939...</td>\n",
              "    </tr>\n",
              "    <tr>\n",
              "      <th>181</th>\n",
              "      <td>45 Pham Van Dong, Hue Vietnam</td>\n",
              "      <td>5.0</td>\n",
              "      <td>48.0</td>\n",
              "      <td>NaN</td>\n",
              "      <td>Vietnamese</td>\n",
              "      <td>Giang Ngoc Hostel</td>\n",
              "      <td>NaN</td>\n",
              "      <td>NaN</td>\n",
              "      <td>NaN</td>\n",
              "      <td>Which popular attractions are close to Giang N...</td>\n",
              "      <td>...</td>\n",
              "      <td>0</td>\n",
              "      <td>NaN</td>\n",
              "      <td>0.0</td>\n",
              "      <td>NaN</td>\n",
              "      <td>22.0</td>\n",
              "      <td>NaN</td>\n",
              "      <td>5</td>\n",
              "      <td>NaN</td>\n",
              "      <td>0.0</td>\n",
              "      <td>https://www.tripadvisor.com/Hotel_Review-g2939...</td>\n",
              "    </tr>\n",
              "    <tr>\n",
              "      <th>540</th>\n",
              "      <td>41 Chu Van An Street, Hue Vietnam</td>\n",
              "      <td>27.0</td>\n",
              "      <td>93.0</td>\n",
              "      <td>10.0</td>\n",
              "      <td>English, French, Chinese, Japanese</td>\n",
              "      <td>Mintea Hostel</td>\n",
              "      <td>$15</td>\n",
              "      <td>$14</td>\n",
              "      <td>$14 - $15</td>\n",
              "      <td>Which popular attractions are close to Mintea ...</td>\n",
              "      <td>...</td>\n",
              "      <td>30</td>\n",
              "      <td>#36 of 267 Specialty lodging in Hue</td>\n",
              "      <td>4.5</td>\n",
              "      <td>NaN</td>\n",
              "      <td>168.0</td>\n",
              "      <td>Excellent</td>\n",
              "      <td>5</td>\n",
              "      <td>Budget</td>\n",
              "      <td>4.0</td>\n",
              "      <td>https://www.tripadvisor.com/Hotel_Review-g2939...</td>\n",
              "    </tr>\n",
              "  </tbody>\n",
              "</table>\n",
              "<p>10 rows × 21 columns</p>\n",
              "</div>\n",
              "    <div class=\"colab-df-buttons\">\n",
              "\n",
              "  <div class=\"colab-df-container\">\n",
              "    <button class=\"colab-df-convert\" onclick=\"convertToInteractive('df-975e8b9c-a520-474a-a9f0-f3c7d5a2896c')\"\n",
              "            title=\"Convert this dataframe to an interactive table.\"\n",
              "            style=\"display:none;\">\n",
              "\n",
              "  <svg xmlns=\"http://www.w3.org/2000/svg\" height=\"24px\" viewBox=\"0 -960 960 960\">\n",
              "    <path d=\"M120-120v-720h720v720H120Zm60-500h600v-160H180v160Zm220 220h160v-160H400v160Zm0 220h160v-160H400v160ZM180-400h160v-160H180v160Zm440 0h160v-160H620v160ZM180-180h160v-160H180v160Zm440 0h160v-160H620v160Z\"/>\n",
              "  </svg>\n",
              "    </button>\n",
              "\n",
              "  <style>\n",
              "    .colab-df-container {\n",
              "      display:flex;\n",
              "      gap: 12px;\n",
              "    }\n",
              "\n",
              "    .colab-df-convert {\n",
              "      background-color: #E8F0FE;\n",
              "      border: none;\n",
              "      border-radius: 50%;\n",
              "      cursor: pointer;\n",
              "      display: none;\n",
              "      fill: #1967D2;\n",
              "      height: 32px;\n",
              "      padding: 0 0 0 0;\n",
              "      width: 32px;\n",
              "    }\n",
              "\n",
              "    .colab-df-convert:hover {\n",
              "      background-color: #E2EBFA;\n",
              "      box-shadow: 0px 1px 2px rgba(60, 64, 67, 0.3), 0px 1px 3px 1px rgba(60, 64, 67, 0.15);\n",
              "      fill: #174EA6;\n",
              "    }\n",
              "\n",
              "    .colab-df-buttons div {\n",
              "      margin-bottom: 4px;\n",
              "    }\n",
              "\n",
              "    [theme=dark] .colab-df-convert {\n",
              "      background-color: #3B4455;\n",
              "      fill: #D2E3FC;\n",
              "    }\n",
              "\n",
              "    [theme=dark] .colab-df-convert:hover {\n",
              "      background-color: #434B5C;\n",
              "      box-shadow: 0px 1px 3px 1px rgba(0, 0, 0, 0.15);\n",
              "      filter: drop-shadow(0px 1px 2px rgba(0, 0, 0, 0.3));\n",
              "      fill: #FFFFFF;\n",
              "    }\n",
              "  </style>\n",
              "\n",
              "    <script>\n",
              "      const buttonEl =\n",
              "        document.querySelector('#df-975e8b9c-a520-474a-a9f0-f3c7d5a2896c button.colab-df-convert');\n",
              "      buttonEl.style.display =\n",
              "        google.colab.kernel.accessAllowed ? 'block' : 'none';\n",
              "\n",
              "      async function convertToInteractive(key) {\n",
              "        const element = document.querySelector('#df-975e8b9c-a520-474a-a9f0-f3c7d5a2896c');\n",
              "        const dataTable =\n",
              "          await google.colab.kernel.invokeFunction('convertToInteractive',\n",
              "                                                    [key], {});\n",
              "        if (!dataTable) return;\n",
              "\n",
              "        const docLinkHtml = 'Like what you see? Visit the ' +\n",
              "          '<a target=\"_blank\" href=https://colab.research.google.com/notebooks/data_table.ipynb>data table notebook</a>'\n",
              "          + ' to learn more about interactive tables.';\n",
              "        element.innerHTML = '';\n",
              "        dataTable['output_type'] = 'display_data';\n",
              "        await google.colab.output.renderOutput(dataTable, element);\n",
              "        const docLink = document.createElement('div');\n",
              "        docLink.innerHTML = docLinkHtml;\n",
              "        element.appendChild(docLink);\n",
              "      }\n",
              "    </script>\n",
              "  </div>\n",
              "\n",
              "\n",
              "<div id=\"df-e6bbd133-6352-4a9f-9e22-325b29934608\">\n",
              "  <button class=\"colab-df-quickchart\" onclick=\"quickchart('df-e6bbd133-6352-4a9f-9e22-325b29934608')\"\n",
              "            title=\"Suggest charts\"\n",
              "            style=\"display:none;\">\n",
              "\n",
              "<svg xmlns=\"http://www.w3.org/2000/svg\" height=\"24px\"viewBox=\"0 0 24 24\"\n",
              "     width=\"24px\">\n",
              "    <g>\n",
              "        <path d=\"M19 3H5c-1.1 0-2 .9-2 2v14c0 1.1.9 2 2 2h14c1.1 0 2-.9 2-2V5c0-1.1-.9-2-2-2zM9 17H7v-7h2v7zm4 0h-2V7h2v10zm4 0h-2v-4h2v4z\"/>\n",
              "    </g>\n",
              "</svg>\n",
              "  </button>\n",
              "\n",
              "<style>\n",
              "  .colab-df-quickchart {\n",
              "      --bg-color: #E8F0FE;\n",
              "      --fill-color: #1967D2;\n",
              "      --hover-bg-color: #E2EBFA;\n",
              "      --hover-fill-color: #174EA6;\n",
              "      --disabled-fill-color: #AAA;\n",
              "      --disabled-bg-color: #DDD;\n",
              "  }\n",
              "\n",
              "  [theme=dark] .colab-df-quickchart {\n",
              "      --bg-color: #3B4455;\n",
              "      --fill-color: #D2E3FC;\n",
              "      --hover-bg-color: #434B5C;\n",
              "      --hover-fill-color: #FFFFFF;\n",
              "      --disabled-bg-color: #3B4455;\n",
              "      --disabled-fill-color: #666;\n",
              "  }\n",
              "\n",
              "  .colab-df-quickchart {\n",
              "    background-color: var(--bg-color);\n",
              "    border: none;\n",
              "    border-radius: 50%;\n",
              "    cursor: pointer;\n",
              "    display: none;\n",
              "    fill: var(--fill-color);\n",
              "    height: 32px;\n",
              "    padding: 0;\n",
              "    width: 32px;\n",
              "  }\n",
              "\n",
              "  .colab-df-quickchart:hover {\n",
              "    background-color: var(--hover-bg-color);\n",
              "    box-shadow: 0 1px 2px rgba(60, 64, 67, 0.3), 0 1px 3px 1px rgba(60, 64, 67, 0.15);\n",
              "    fill: var(--button-hover-fill-color);\n",
              "  }\n",
              "\n",
              "  .colab-df-quickchart-complete:disabled,\n",
              "  .colab-df-quickchart-complete:disabled:hover {\n",
              "    background-color: var(--disabled-bg-color);\n",
              "    fill: var(--disabled-fill-color);\n",
              "    box-shadow: none;\n",
              "  }\n",
              "\n",
              "  .colab-df-spinner {\n",
              "    border: 2px solid var(--fill-color);\n",
              "    border-color: transparent;\n",
              "    border-bottom-color: var(--fill-color);\n",
              "    animation:\n",
              "      spin 1s steps(1) infinite;\n",
              "  }\n",
              "\n",
              "  @keyframes spin {\n",
              "    0% {\n",
              "      border-color: transparent;\n",
              "      border-bottom-color: var(--fill-color);\n",
              "      border-left-color: var(--fill-color);\n",
              "    }\n",
              "    20% {\n",
              "      border-color: transparent;\n",
              "      border-left-color: var(--fill-color);\n",
              "      border-top-color: var(--fill-color);\n",
              "    }\n",
              "    30% {\n",
              "      border-color: transparent;\n",
              "      border-left-color: var(--fill-color);\n",
              "      border-top-color: var(--fill-color);\n",
              "      border-right-color: var(--fill-color);\n",
              "    }\n",
              "    40% {\n",
              "      border-color: transparent;\n",
              "      border-right-color: var(--fill-color);\n",
              "      border-top-color: var(--fill-color);\n",
              "    }\n",
              "    60% {\n",
              "      border-color: transparent;\n",
              "      border-right-color: var(--fill-color);\n",
              "    }\n",
              "    80% {\n",
              "      border-color: transparent;\n",
              "      border-right-color: var(--fill-color);\n",
              "      border-bottom-color: var(--fill-color);\n",
              "    }\n",
              "    90% {\n",
              "      border-color: transparent;\n",
              "      border-bottom-color: var(--fill-color);\n",
              "    }\n",
              "  }\n",
              "</style>\n",
              "\n",
              "  <script>\n",
              "    async function quickchart(key) {\n",
              "      const quickchartButtonEl =\n",
              "        document.querySelector('#' + key + ' button');\n",
              "      quickchartButtonEl.disabled = true;  // To prevent multiple clicks.\n",
              "      quickchartButtonEl.classList.add('colab-df-spinner');\n",
              "      try {\n",
              "        const charts = await google.colab.kernel.invokeFunction(\n",
              "            'suggestCharts', [key], {});\n",
              "      } catch (error) {\n",
              "        console.error('Error during call to suggestCharts:', error);\n",
              "      }\n",
              "      quickchartButtonEl.classList.remove('colab-df-spinner');\n",
              "      quickchartButtonEl.classList.add('colab-df-quickchart-complete');\n",
              "    }\n",
              "    (() => {\n",
              "      let quickchartButtonEl =\n",
              "        document.querySelector('#df-e6bbd133-6352-4a9f-9e22-325b29934608 button');\n",
              "      quickchartButtonEl.style.display =\n",
              "        google.colab.kernel.accessAllowed ? 'block' : 'none';\n",
              "    })();\n",
              "  </script>\n",
              "</div>\n",
              "\n",
              "    </div>\n",
              "  </div>\n"
            ]
          },
          "metadata": {},
          "execution_count": 7
        }
      ]
    },
    {
      "cell_type": "code",
      "source": [
        "data.columns.values"
      ],
      "metadata": {
        "id": "SH9z-QIo0WsF",
        "colab": {
          "base_uri": "https://localhost:8080/"
        },
        "outputId": "d67eea88-b342-4b7b-ffb3-2578c210d0d3"
      },
      "execution_count": 8,
      "outputs": [
        {
          "output_type": "execute_result",
          "data": {
            "text/plain": [
              "array(['HAddress', 'HAttractions', 'HGFW', 'HImages', 'HLanguage',\n",
              "       'HName', 'HPMax', 'HPMin', 'HPRange', 'HQuestions', 'HRImages',\n",
              "       'HRNumber', 'HRank', 'HRankreview', 'HRating', 'HRestaurants',\n",
              "       'HReview', 'HRoom', 'HStyles', 'HVideos', 'URL'], dtype=object)"
            ]
          },
          "metadata": {},
          "execution_count": 8
        }
      ]
    },
    {
      "cell_type": "markdown",
      "source": [
        "Ta thấy được rằng số lượng khách sạn được đánh giá là Excellent và Very good là rất cao, chiếm số phần trăm lớn hơn gấp nhiều lần so với Average, Poor và Terrible.\n",
        "\n",
        "=> Chứng tỏ độ thỏa mãn của khách hàng đối với đa số khách sạn ở Huế là rất cao\n",
        "\n",
        "=> Khách sạn ở Huế phù hợp để được chọn là nơi nghỉ ngơi khi đi du lịch, công tác tại Huế.\n"
      ],
      "metadata": {
        "id": "YNicXBXx0sHi"
      }
    },
    {
      "cell_type": "code",
      "source": [
        "new_data = data.dropna()\n",
        "print(new_data)"
      ],
      "metadata": {
        "id": "SJOlTvKy2wEb",
        "colab": {
          "base_uri": "https://localhost:8080/"
        },
        "outputId": "3ed51540-ae8e-427e-e2a5-97259cbcbe7f"
      },
      "execution_count": 9,
      "outputs": [
        {
          "output_type": "stream",
          "name": "stdout",
          "text": [
            "                                              HAddress  HAttractions  HGFW  \\\n",
            "26                          46 Chu Van An, Hue Vietnam          27.0  92.0   \n",
            "27                   4 Tran Quang Khai St, Hue Vietnam          28.0  93.0   \n",
            "28   5 Lane 27 Nguyen Sinh Cung Street, Hue 530000 ...           3.0  81.0   \n",
            "31            17 Nguyen Hue Street, Hue 008454 Vietnam           4.0  77.0   \n",
            "33           50A Hung Vuong Street, Hue 530000 Vietnam           6.0  94.0   \n",
            "..                                                 ...           ...   ...   \n",
            "685               2 Luong The Vinh Street, Hue Vietnam          17.0  96.0   \n",
            "688           16/7 Nguyen Cong Tru, Hue 530000 Vietnam          25.0  92.0   \n",
            "689  Number 8 Lane 43 Nguyen Cong Tru Street, Hue 5...          25.0  91.0   \n",
            "690             17 Nguyen Thai Hoc, Hue 530000 Vietnam          27.0  92.0   \n",
            "691         4/34 Nguyen Tri Phuong Street, Hue Vietnam          14.0  97.0   \n",
            "\n",
            "     HImages                             HLanguage  \\\n",
            "26      14.0                   English, Vietnamese   \n",
            "27     193.0                   English, Vietnamese   \n",
            "28      62.0                   English, Vietnamese   \n",
            "31     398.0  English, French, Chinese, Vietnamese   \n",
            "33     683.0                   English, Vietnamese   \n",
            "..       ...                                   ...   \n",
            "685     86.0                   English, Vietnamese   \n",
            "688    261.0                   English, Vietnamese   \n",
            "689     60.0                   English, Vietnamese   \n",
            "690     30.0           English, French, Vietnamese   \n",
            "691     77.0         English, Japanese, Vietnamese   \n",
            "\n",
            "                            HName    HPMax HPMin      HPRange  \\\n",
            "26   Hong Thien Backpackers Hotel     $18   $15     $15 - $18   \n",
            "27                      Villa Hue  $1,074   $29   $29 - $1074   \n",
            "28       Charming Riverside Hotel     $15   $13     $13 - $15   \n",
            "31              Mondial Hotel Hue     $49   $29     $29 - $49   \n",
            "33             Vinpearl Hotel Hue    $104   $61    $61 - $104   \n",
            "..                            ...      ...   ...          ...   \n",
            "685             Thai Binh Hotel 2     $28   $16     $16 - $28   \n",
            "688           Hue Riverside Villa     $51   $26     $26 - $51   \n",
            "689         Canary Boutique Hotel     $22   $15     $15 - $22   \n",
            "690                  Hue Charming     $13   $10     $10 - $13   \n",
            "691                 Sunny B Hotel     $18   $14     $14 - $18   \n",
            "\n",
            "                                            HQuestions  ...  HRNumber  \\\n",
            "26   Which popular attractions are close to Hong Th...  ...       338   \n",
            "27   Which popular attractions are close to Villa H...  ...       369   \n",
            "28   Which popular attractions are close to Charmin...  ...       374   \n",
            "31   Which popular attractions are close to Mondial...  ...       467   \n",
            "33   Which popular attractions are close to Vinpear...  ...       511   \n",
            "..                                                 ...  ...       ...   \n",
            "685  Which popular attractions are close to Thai Bi...  ...       274   \n",
            "688  Which popular attractions are close to Hue Riv...  ...       304   \n",
            "689  Which popular attractions are close to Canary ...  ...       312   \n",
            "690  Which popular attractions are close to Hue Cha...  ...       321   \n",
            "691  Which popular attractions are close to Sunny B...  ...       331   \n",
            "\n",
            "                            HRank HRankreview  HRating  HRestaurants  \\\n",
            "26        #6 of 75 hostels in Hue         4.5      2.0         160.0   \n",
            "27       #32 of 138 hotels in Hue         4.5      4.0         185.0   \n",
            "28        #6 of 138 hotels in Hue         5.0      2.0          24.0   \n",
            "31       #46 of 138 hotels in Hue         4.0      4.0          20.0   \n",
            "33        #1 of 138 hotels in Hue         5.0      5.0          74.0   \n",
            "..                            ...         ...      ...           ...   \n",
            "685      #61 of 209 hotels in Hue        40.0     20.0          94.0   \n",
            "688       #2 of 209 hotels in Hue        50.0     30.0         124.0   \n",
            "689      #15 of 209 hotels in Hue        45.0     20.0         131.0   \n",
            "690  #7 of 183 B&Bs / Inns in Hue        45.0     20.0         168.0   \n",
            "691      #24 of 209 hotels in Hue        45.0     20.0          96.0   \n",
            "\n",
            "       HReview HRoom                   HStyles HVideos  \\\n",
            "26   Excellent    12                    Budget     8.0   \n",
            "27   Excellent    34           Quiet,Mid-range    22.0   \n",
            "28   Excellent    21            Quiet,Charming     8.0   \n",
            "31   Very good   106        Mid-range,Business    27.0   \n",
            "33   Excellent   213           Modern,Business    28.0   \n",
            "..         ...   ...                       ...     ...   \n",
            "685  Very good   218      Mid-range,River View     5.0   \n",
            "688  Excellent    12         Charming,Boutique    25.0   \n",
            "689  Excellent    15              Modern,Quiet     4.0   \n",
            "690  Excellent    15  Centrally Located,Budget     5.0   \n",
            "691  Excellent    11              Budget,Quiet     8.0   \n",
            "\n",
            "                                                   URL  \n",
            "26   https://www.tripadvisor.com/Hotel_Review-g2939...  \n",
            "27   https://www.tripadvisor.com/Hotel_Review-g2939...  \n",
            "28   https://www.tripadvisor.com/Hotel_Review-g2939...  \n",
            "31   https://www.tripadvisor.com/Hotel_Review-g2939...  \n",
            "33   https://www.tripadvisor.com/Hotel_Review-g2939...  \n",
            "..                                                 ...  \n",
            "685  https://www.tripadvisor.com/Hotel_Review-g2939...  \n",
            "688  https://www.tripadvisor.com/Hotel_Review-g2939...  \n",
            "689  https://www.tripadvisor.com/Hotel_Review-g2939...  \n",
            "690  https://www.tripadvisor.com/Hotel_Review-g2939...  \n",
            "691  https://www.tripadvisor.com/Hotel_Review-g2939...  \n",
            "\n",
            "[79 rows x 21 columns]\n"
          ]
        }
      ]
    },
    {
      "cell_type": "code",
      "source": [
        "#Sap xep lai du lieu theo thu tu\n",
        "index = []\n",
        "print(len(new_data))\n",
        "for i in range (1, len(new_data)+1):\n",
        "    index.append(i)\n",
        "new_data[\"Index\"] = index\n",
        "index1 = new_data.set_index(\"Index\")\n",
        "new_data = index1.sort_index()\n",
        "new_data.head(10)"
      ],
      "metadata": {
        "id": "kgXCxrhB3Uwt",
        "colab": {
          "base_uri": "https://localhost:8080/",
          "height": 1000
        },
        "outputId": "7f6b3e88-5ebc-4f02-9442-9c04395d08cb"
      },
      "execution_count": 10,
      "outputs": [
        {
          "output_type": "stream",
          "name": "stdout",
          "text": [
            "79\n"
          ]
        },
        {
          "output_type": "stream",
          "name": "stderr",
          "text": [
            "<ipython-input-10-6aa5121d2c50>:6: SettingWithCopyWarning: \n",
            "A value is trying to be set on a copy of a slice from a DataFrame.\n",
            "Try using .loc[row_indexer,col_indexer] = value instead\n",
            "\n",
            "See the caveats in the documentation: https://pandas.pydata.org/pandas-docs/stable/user_guide/indexing.html#returning-a-view-versus-a-copy\n",
            "  new_data[\"Index\"] = index\n"
          ]
        },
        {
          "output_type": "execute_result",
          "data": {
            "text/plain": [
              "                                                HAddress  HAttractions  HGFW  \\\n",
              "Index                                                                          \n",
              "1                             46 Chu Van An, Hue Vietnam          27.0  92.0   \n",
              "2                      4 Tran Quang Khai St, Hue Vietnam          28.0  93.0   \n",
              "3      5 Lane 27 Nguyen Sinh Cung Street, Hue 530000 ...           3.0  81.0   \n",
              "4               17 Nguyen Hue Street, Hue 008454 Vietnam           4.0  77.0   \n",
              "5              50A Hung Vuong Street, Hue 530000 Vietnam           6.0  94.0   \n",
              "6                           29 Doi Cung Str, Hue Vietnam          28.0  94.0   \n",
              "7       7/64 Nguyen Cong Tru Phu Hoi, Hue 530000 Vietnam          25.0  91.0   \n",
              "8        59 Vo Thi Sau, Phu Hoi Ward, Hue 530000 Vietnam          27.0  93.0   \n",
              "9                   49 Le Loi Street, Hue 530000 Vietnam          26.0  94.0   \n",
              "10            51 Le Loi Street Phu Hoi Ward, Hue Vietnam          26.0  94.0   \n",
              "\n",
              "       HImages                             HLanguage  \\\n",
              "Index                                                  \n",
              "1         14.0                   English, Vietnamese   \n",
              "2        193.0                   English, Vietnamese   \n",
              "3         62.0                   English, Vietnamese   \n",
              "4        398.0  English, French, Chinese, Vietnamese   \n",
              "5        683.0                   English, Vietnamese   \n",
              "6        295.0                            Vietnamese   \n",
              "7         59.0                            Vietnamese   \n",
              "8        111.0           English, French, Vietnamese   \n",
              "9        382.0                            Vietnamese   \n",
              "10       390.0         English, Japanese, Vietnamese   \n",
              "\n",
              "                                HName    HPMax HPMin      HPRange  \\\n",
              "Index                                                               \n",
              "1        Hong Thien Backpackers Hotel     $18   $15     $15 - $18   \n",
              "2                           Villa Hue  $1,074   $29   $29 - $1074   \n",
              "3            Charming Riverside Hotel     $15   $13     $13 - $15   \n",
              "4                   Mondial Hotel Hue     $49   $29     $29 - $49   \n",
              "5                  Vinpearl Hotel Hue    $104   $61    $61 - $104   \n",
              "6                   Midtown Hotel Hue     $48   $35     $35 - $48   \n",
              "7                 New Valentine Hotel     $19   $12     $12 - $19   \n",
              "8                Thanh Lich Hue Hotel     $45   $24     $24 - $45   \n",
              "9         Century Riverside Hue Hotel     $57   $33     $33 - $57   \n",
              "10     Huong Giang Hotel Resort & Spa     $62   $41     $41 - $62   \n",
              "\n",
              "                                              HQuestions  ...  HRNumber  \\\n",
              "Index                                                     ...             \n",
              "1      Which popular attractions are close to Hong Th...  ...       338   \n",
              "2      Which popular attractions are close to Villa H...  ...       369   \n",
              "3      Which popular attractions are close to Charmin...  ...       374   \n",
              "4      Which popular attractions are close to Mondial...  ...       467   \n",
              "5      Which popular attractions are close to Vinpear...  ...       511   \n",
              "6      Which popular attractions are close to Midtown...  ...       518   \n",
              "7      Which popular attractions are close to New Val...  ...       543   \n",
              "8      Which popular attractions are close to Thanh L...  ...       573   \n",
              "9      Which popular attractions are close to Century...  ...       604   \n",
              "10     Which popular attractions are close to Huong G...  ...       618   \n",
              "\n",
              "                          HRank HRankreview  HRating  HRestaurants    HReview  \\\n",
              "Index                                                                           \n",
              "1       #6 of 75 hostels in Hue         4.5      2.0         160.0  Excellent   \n",
              "2      #32 of 138 hotels in Hue         4.5      4.0         185.0  Excellent   \n",
              "3       #6 of 138 hotels in Hue         5.0      2.0          24.0  Excellent   \n",
              "4      #46 of 138 hotels in Hue         4.0      4.0          20.0  Very good   \n",
              "5       #1 of 138 hotels in Hue         5.0      5.0          74.0  Excellent   \n",
              "6      #43 of 138 hotels in Hue         4.0      4.0         190.0  Very good   \n",
              "7      #26 of 138 hotels in Hue         4.5      2.0         134.0  Excellent   \n",
              "8       #9 of 138 hotels in Hue         4.5      3.0         145.0  Excellent   \n",
              "9      #49 of 138 hotels in Hue         3.5      4.0         134.0  Very good   \n",
              "10     #53 of 138 hotels in Hue         3.5      4.0         132.0  Very good   \n",
              "\n",
              "      HRoom                   HStyles HVideos  \\\n",
              "Index                                           \n",
              "1        12                    Budget     8.0   \n",
              "2        34           Quiet,Mid-range    22.0   \n",
              "3        21            Quiet,Charming     8.0   \n",
              "4       106        Mid-range,Business    27.0   \n",
              "5       213           Modern,Business    28.0   \n",
              "6        88         River View,Modern     4.0   \n",
              "7        20  Budget,Centrally Located     4.0   \n",
              "8        50          City View,Family    27.0   \n",
              "9       125     Great View,River View    61.0   \n",
              "10      165      Mid-range,Great View    59.0   \n",
              "\n",
              "                                                     URL  \n",
              "Index                                                     \n",
              "1      https://www.tripadvisor.com/Hotel_Review-g2939...  \n",
              "2      https://www.tripadvisor.com/Hotel_Review-g2939...  \n",
              "3      https://www.tripadvisor.com/Hotel_Review-g2939...  \n",
              "4      https://www.tripadvisor.com/Hotel_Review-g2939...  \n",
              "5      https://www.tripadvisor.com/Hotel_Review-g2939...  \n",
              "6      https://www.tripadvisor.com/Hotel_Review-g2939...  \n",
              "7      https://www.tripadvisor.com/Hotel_Review-g2939...  \n",
              "8      https://www.tripadvisor.com/Hotel_Review-g2939...  \n",
              "9      https://www.tripadvisor.com/Hotel_Review-g2939...  \n",
              "10     https://www.tripadvisor.com/Hotel_Review-g2939...  \n",
              "\n",
              "[10 rows x 21 columns]"
            ],
            "text/html": [
              "\n",
              "  <div id=\"df-b4e6a6c1-c20f-4606-955a-748f059410af\" class=\"colab-df-container\">\n",
              "    <div>\n",
              "<style scoped>\n",
              "    .dataframe tbody tr th:only-of-type {\n",
              "        vertical-align: middle;\n",
              "    }\n",
              "\n",
              "    .dataframe tbody tr th {\n",
              "        vertical-align: top;\n",
              "    }\n",
              "\n",
              "    .dataframe thead th {\n",
              "        text-align: right;\n",
              "    }\n",
              "</style>\n",
              "<table border=\"1\" class=\"dataframe\">\n",
              "  <thead>\n",
              "    <tr style=\"text-align: right;\">\n",
              "      <th></th>\n",
              "      <th>HAddress</th>\n",
              "      <th>HAttractions</th>\n",
              "      <th>HGFW</th>\n",
              "      <th>HImages</th>\n",
              "      <th>HLanguage</th>\n",
              "      <th>HName</th>\n",
              "      <th>HPMax</th>\n",
              "      <th>HPMin</th>\n",
              "      <th>HPRange</th>\n",
              "      <th>HQuestions</th>\n",
              "      <th>...</th>\n",
              "      <th>HRNumber</th>\n",
              "      <th>HRank</th>\n",
              "      <th>HRankreview</th>\n",
              "      <th>HRating</th>\n",
              "      <th>HRestaurants</th>\n",
              "      <th>HReview</th>\n",
              "      <th>HRoom</th>\n",
              "      <th>HStyles</th>\n",
              "      <th>HVideos</th>\n",
              "      <th>URL</th>\n",
              "    </tr>\n",
              "    <tr>\n",
              "      <th>Index</th>\n",
              "      <th></th>\n",
              "      <th></th>\n",
              "      <th></th>\n",
              "      <th></th>\n",
              "      <th></th>\n",
              "      <th></th>\n",
              "      <th></th>\n",
              "      <th></th>\n",
              "      <th></th>\n",
              "      <th></th>\n",
              "      <th></th>\n",
              "      <th></th>\n",
              "      <th></th>\n",
              "      <th></th>\n",
              "      <th></th>\n",
              "      <th></th>\n",
              "      <th></th>\n",
              "      <th></th>\n",
              "      <th></th>\n",
              "      <th></th>\n",
              "      <th></th>\n",
              "    </tr>\n",
              "  </thead>\n",
              "  <tbody>\n",
              "    <tr>\n",
              "      <th>1</th>\n",
              "      <td>46 Chu Van An, Hue Vietnam</td>\n",
              "      <td>27.0</td>\n",
              "      <td>92.0</td>\n",
              "      <td>14.0</td>\n",
              "      <td>English, Vietnamese</td>\n",
              "      <td>Hong Thien Backpackers Hotel</td>\n",
              "      <td>$18</td>\n",
              "      <td>$15</td>\n",
              "      <td>$15 - $18</td>\n",
              "      <td>Which popular attractions are close to Hong Th...</td>\n",
              "      <td>...</td>\n",
              "      <td>338</td>\n",
              "      <td>#6 of 75 hostels in Hue</td>\n",
              "      <td>4.5</td>\n",
              "      <td>2.0</td>\n",
              "      <td>160.0</td>\n",
              "      <td>Excellent</td>\n",
              "      <td>12</td>\n",
              "      <td>Budget</td>\n",
              "      <td>8.0</td>\n",
              "      <td>https://www.tripadvisor.com/Hotel_Review-g2939...</td>\n",
              "    </tr>\n",
              "    <tr>\n",
              "      <th>2</th>\n",
              "      <td>4 Tran Quang Khai St, Hue Vietnam</td>\n",
              "      <td>28.0</td>\n",
              "      <td>93.0</td>\n",
              "      <td>193.0</td>\n",
              "      <td>English, Vietnamese</td>\n",
              "      <td>Villa Hue</td>\n",
              "      <td>$1,074</td>\n",
              "      <td>$29</td>\n",
              "      <td>$29 - $1074</td>\n",
              "      <td>Which popular attractions are close to Villa H...</td>\n",
              "      <td>...</td>\n",
              "      <td>369</td>\n",
              "      <td>#32 of 138 hotels in Hue</td>\n",
              "      <td>4.5</td>\n",
              "      <td>4.0</td>\n",
              "      <td>185.0</td>\n",
              "      <td>Excellent</td>\n",
              "      <td>34</td>\n",
              "      <td>Quiet,Mid-range</td>\n",
              "      <td>22.0</td>\n",
              "      <td>https://www.tripadvisor.com/Hotel_Review-g2939...</td>\n",
              "    </tr>\n",
              "    <tr>\n",
              "      <th>3</th>\n",
              "      <td>5 Lane 27 Nguyen Sinh Cung Street, Hue 530000 ...</td>\n",
              "      <td>3.0</td>\n",
              "      <td>81.0</td>\n",
              "      <td>62.0</td>\n",
              "      <td>English, Vietnamese</td>\n",
              "      <td>Charming Riverside Hotel</td>\n",
              "      <td>$15</td>\n",
              "      <td>$13</td>\n",
              "      <td>$13 - $15</td>\n",
              "      <td>Which popular attractions are close to Charmin...</td>\n",
              "      <td>...</td>\n",
              "      <td>374</td>\n",
              "      <td>#6 of 138 hotels in Hue</td>\n",
              "      <td>5.0</td>\n",
              "      <td>2.0</td>\n",
              "      <td>24.0</td>\n",
              "      <td>Excellent</td>\n",
              "      <td>21</td>\n",
              "      <td>Quiet,Charming</td>\n",
              "      <td>8.0</td>\n",
              "      <td>https://www.tripadvisor.com/Hotel_Review-g2939...</td>\n",
              "    </tr>\n",
              "    <tr>\n",
              "      <th>4</th>\n",
              "      <td>17 Nguyen Hue Street, Hue 008454 Vietnam</td>\n",
              "      <td>4.0</td>\n",
              "      <td>77.0</td>\n",
              "      <td>398.0</td>\n",
              "      <td>English, French, Chinese, Vietnamese</td>\n",
              "      <td>Mondial Hotel Hue</td>\n",
              "      <td>$49</td>\n",
              "      <td>$29</td>\n",
              "      <td>$29 - $49</td>\n",
              "      <td>Which popular attractions are close to Mondial...</td>\n",
              "      <td>...</td>\n",
              "      <td>467</td>\n",
              "      <td>#46 of 138 hotels in Hue</td>\n",
              "      <td>4.0</td>\n",
              "      <td>4.0</td>\n",
              "      <td>20.0</td>\n",
              "      <td>Very good</td>\n",
              "      <td>106</td>\n",
              "      <td>Mid-range,Business</td>\n",
              "      <td>27.0</td>\n",
              "      <td>https://www.tripadvisor.com/Hotel_Review-g2939...</td>\n",
              "    </tr>\n",
              "    <tr>\n",
              "      <th>5</th>\n",
              "      <td>50A Hung Vuong Street, Hue 530000 Vietnam</td>\n",
              "      <td>6.0</td>\n",
              "      <td>94.0</td>\n",
              "      <td>683.0</td>\n",
              "      <td>English, Vietnamese</td>\n",
              "      <td>Vinpearl Hotel Hue</td>\n",
              "      <td>$104</td>\n",
              "      <td>$61</td>\n",
              "      <td>$61 - $104</td>\n",
              "      <td>Which popular attractions are close to Vinpear...</td>\n",
              "      <td>...</td>\n",
              "      <td>511</td>\n",
              "      <td>#1 of 138 hotels in Hue</td>\n",
              "      <td>5.0</td>\n",
              "      <td>5.0</td>\n",
              "      <td>74.0</td>\n",
              "      <td>Excellent</td>\n",
              "      <td>213</td>\n",
              "      <td>Modern,Business</td>\n",
              "      <td>28.0</td>\n",
              "      <td>https://www.tripadvisor.com/Hotel_Review-g2939...</td>\n",
              "    </tr>\n",
              "    <tr>\n",
              "      <th>6</th>\n",
              "      <td>29 Doi Cung Str, Hue Vietnam</td>\n",
              "      <td>28.0</td>\n",
              "      <td>94.0</td>\n",
              "      <td>295.0</td>\n",
              "      <td>Vietnamese</td>\n",
              "      <td>Midtown Hotel Hue</td>\n",
              "      <td>$48</td>\n",
              "      <td>$35</td>\n",
              "      <td>$35 - $48</td>\n",
              "      <td>Which popular attractions are close to Midtown...</td>\n",
              "      <td>...</td>\n",
              "      <td>518</td>\n",
              "      <td>#43 of 138 hotels in Hue</td>\n",
              "      <td>4.0</td>\n",
              "      <td>4.0</td>\n",
              "      <td>190.0</td>\n",
              "      <td>Very good</td>\n",
              "      <td>88</td>\n",
              "      <td>River View,Modern</td>\n",
              "      <td>4.0</td>\n",
              "      <td>https://www.tripadvisor.com/Hotel_Review-g2939...</td>\n",
              "    </tr>\n",
              "    <tr>\n",
              "      <th>7</th>\n",
              "      <td>7/64 Nguyen Cong Tru Phu Hoi, Hue 530000 Vietnam</td>\n",
              "      <td>25.0</td>\n",
              "      <td>91.0</td>\n",
              "      <td>59.0</td>\n",
              "      <td>Vietnamese</td>\n",
              "      <td>New Valentine Hotel</td>\n",
              "      <td>$19</td>\n",
              "      <td>$12</td>\n",
              "      <td>$12 - $19</td>\n",
              "      <td>Which popular attractions are close to New Val...</td>\n",
              "      <td>...</td>\n",
              "      <td>543</td>\n",
              "      <td>#26 of 138 hotels in Hue</td>\n",
              "      <td>4.5</td>\n",
              "      <td>2.0</td>\n",
              "      <td>134.0</td>\n",
              "      <td>Excellent</td>\n",
              "      <td>20</td>\n",
              "      <td>Budget,Centrally Located</td>\n",
              "      <td>4.0</td>\n",
              "      <td>https://www.tripadvisor.com/Hotel_Review-g2939...</td>\n",
              "    </tr>\n",
              "    <tr>\n",
              "      <th>8</th>\n",
              "      <td>59 Vo Thi Sau, Phu Hoi Ward, Hue 530000 Vietnam</td>\n",
              "      <td>27.0</td>\n",
              "      <td>93.0</td>\n",
              "      <td>111.0</td>\n",
              "      <td>English, French, Vietnamese</td>\n",
              "      <td>Thanh Lich Hue Hotel</td>\n",
              "      <td>$45</td>\n",
              "      <td>$24</td>\n",
              "      <td>$24 - $45</td>\n",
              "      <td>Which popular attractions are close to Thanh L...</td>\n",
              "      <td>...</td>\n",
              "      <td>573</td>\n",
              "      <td>#9 of 138 hotels in Hue</td>\n",
              "      <td>4.5</td>\n",
              "      <td>3.0</td>\n",
              "      <td>145.0</td>\n",
              "      <td>Excellent</td>\n",
              "      <td>50</td>\n",
              "      <td>City View,Family</td>\n",
              "      <td>27.0</td>\n",
              "      <td>https://www.tripadvisor.com/Hotel_Review-g2939...</td>\n",
              "    </tr>\n",
              "    <tr>\n",
              "      <th>9</th>\n",
              "      <td>49 Le Loi Street, Hue 530000 Vietnam</td>\n",
              "      <td>26.0</td>\n",
              "      <td>94.0</td>\n",
              "      <td>382.0</td>\n",
              "      <td>Vietnamese</td>\n",
              "      <td>Century Riverside Hue Hotel</td>\n",
              "      <td>$57</td>\n",
              "      <td>$33</td>\n",
              "      <td>$33 - $57</td>\n",
              "      <td>Which popular attractions are close to Century...</td>\n",
              "      <td>...</td>\n",
              "      <td>604</td>\n",
              "      <td>#49 of 138 hotels in Hue</td>\n",
              "      <td>3.5</td>\n",
              "      <td>4.0</td>\n",
              "      <td>134.0</td>\n",
              "      <td>Very good</td>\n",
              "      <td>125</td>\n",
              "      <td>Great View,River View</td>\n",
              "      <td>61.0</td>\n",
              "      <td>https://www.tripadvisor.com/Hotel_Review-g2939...</td>\n",
              "    </tr>\n",
              "    <tr>\n",
              "      <th>10</th>\n",
              "      <td>51 Le Loi Street Phu Hoi Ward, Hue Vietnam</td>\n",
              "      <td>26.0</td>\n",
              "      <td>94.0</td>\n",
              "      <td>390.0</td>\n",
              "      <td>English, Japanese, Vietnamese</td>\n",
              "      <td>Huong Giang Hotel Resort &amp; Spa</td>\n",
              "      <td>$62</td>\n",
              "      <td>$41</td>\n",
              "      <td>$41 - $62</td>\n",
              "      <td>Which popular attractions are close to Huong G...</td>\n",
              "      <td>...</td>\n",
              "      <td>618</td>\n",
              "      <td>#53 of 138 hotels in Hue</td>\n",
              "      <td>3.5</td>\n",
              "      <td>4.0</td>\n",
              "      <td>132.0</td>\n",
              "      <td>Very good</td>\n",
              "      <td>165</td>\n",
              "      <td>Mid-range,Great View</td>\n",
              "      <td>59.0</td>\n",
              "      <td>https://www.tripadvisor.com/Hotel_Review-g2939...</td>\n",
              "    </tr>\n",
              "  </tbody>\n",
              "</table>\n",
              "<p>10 rows × 21 columns</p>\n",
              "</div>\n",
              "    <div class=\"colab-df-buttons\">\n",
              "\n",
              "  <div class=\"colab-df-container\">\n",
              "    <button class=\"colab-df-convert\" onclick=\"convertToInteractive('df-b4e6a6c1-c20f-4606-955a-748f059410af')\"\n",
              "            title=\"Convert this dataframe to an interactive table.\"\n",
              "            style=\"display:none;\">\n",
              "\n",
              "  <svg xmlns=\"http://www.w3.org/2000/svg\" height=\"24px\" viewBox=\"0 -960 960 960\">\n",
              "    <path d=\"M120-120v-720h720v720H120Zm60-500h600v-160H180v160Zm220 220h160v-160H400v160Zm0 220h160v-160H400v160ZM180-400h160v-160H180v160Zm440 0h160v-160H620v160ZM180-180h160v-160H180v160Zm440 0h160v-160H620v160Z\"/>\n",
              "  </svg>\n",
              "    </button>\n",
              "\n",
              "  <style>\n",
              "    .colab-df-container {\n",
              "      display:flex;\n",
              "      gap: 12px;\n",
              "    }\n",
              "\n",
              "    .colab-df-convert {\n",
              "      background-color: #E8F0FE;\n",
              "      border: none;\n",
              "      border-radius: 50%;\n",
              "      cursor: pointer;\n",
              "      display: none;\n",
              "      fill: #1967D2;\n",
              "      height: 32px;\n",
              "      padding: 0 0 0 0;\n",
              "      width: 32px;\n",
              "    }\n",
              "\n",
              "    .colab-df-convert:hover {\n",
              "      background-color: #E2EBFA;\n",
              "      box-shadow: 0px 1px 2px rgba(60, 64, 67, 0.3), 0px 1px 3px 1px rgba(60, 64, 67, 0.15);\n",
              "      fill: #174EA6;\n",
              "    }\n",
              "\n",
              "    .colab-df-buttons div {\n",
              "      margin-bottom: 4px;\n",
              "    }\n",
              "\n",
              "    [theme=dark] .colab-df-convert {\n",
              "      background-color: #3B4455;\n",
              "      fill: #D2E3FC;\n",
              "    }\n",
              "\n",
              "    [theme=dark] .colab-df-convert:hover {\n",
              "      background-color: #434B5C;\n",
              "      box-shadow: 0px 1px 3px 1px rgba(0, 0, 0, 0.15);\n",
              "      filter: drop-shadow(0px 1px 2px rgba(0, 0, 0, 0.3));\n",
              "      fill: #FFFFFF;\n",
              "    }\n",
              "  </style>\n",
              "\n",
              "    <script>\n",
              "      const buttonEl =\n",
              "        document.querySelector('#df-b4e6a6c1-c20f-4606-955a-748f059410af button.colab-df-convert');\n",
              "      buttonEl.style.display =\n",
              "        google.colab.kernel.accessAllowed ? 'block' : 'none';\n",
              "\n",
              "      async function convertToInteractive(key) {\n",
              "        const element = document.querySelector('#df-b4e6a6c1-c20f-4606-955a-748f059410af');\n",
              "        const dataTable =\n",
              "          await google.colab.kernel.invokeFunction('convertToInteractive',\n",
              "                                                    [key], {});\n",
              "        if (!dataTable) return;\n",
              "\n",
              "        const docLinkHtml = 'Like what you see? Visit the ' +\n",
              "          '<a target=\"_blank\" href=https://colab.research.google.com/notebooks/data_table.ipynb>data table notebook</a>'\n",
              "          + ' to learn more about interactive tables.';\n",
              "        element.innerHTML = '';\n",
              "        dataTable['output_type'] = 'display_data';\n",
              "        await google.colab.output.renderOutput(dataTable, element);\n",
              "        const docLink = document.createElement('div');\n",
              "        docLink.innerHTML = docLinkHtml;\n",
              "        element.appendChild(docLink);\n",
              "      }\n",
              "    </script>\n",
              "  </div>\n",
              "\n",
              "\n",
              "<div id=\"df-9e5496f0-79f7-4ab0-acae-de964f29c33d\">\n",
              "  <button class=\"colab-df-quickchart\" onclick=\"quickchart('df-9e5496f0-79f7-4ab0-acae-de964f29c33d')\"\n",
              "            title=\"Suggest charts\"\n",
              "            style=\"display:none;\">\n",
              "\n",
              "<svg xmlns=\"http://www.w3.org/2000/svg\" height=\"24px\"viewBox=\"0 0 24 24\"\n",
              "     width=\"24px\">\n",
              "    <g>\n",
              "        <path d=\"M19 3H5c-1.1 0-2 .9-2 2v14c0 1.1.9 2 2 2h14c1.1 0 2-.9 2-2V5c0-1.1-.9-2-2-2zM9 17H7v-7h2v7zm4 0h-2V7h2v10zm4 0h-2v-4h2v4z\"/>\n",
              "    </g>\n",
              "</svg>\n",
              "  </button>\n",
              "\n",
              "<style>\n",
              "  .colab-df-quickchart {\n",
              "      --bg-color: #E8F0FE;\n",
              "      --fill-color: #1967D2;\n",
              "      --hover-bg-color: #E2EBFA;\n",
              "      --hover-fill-color: #174EA6;\n",
              "      --disabled-fill-color: #AAA;\n",
              "      --disabled-bg-color: #DDD;\n",
              "  }\n",
              "\n",
              "  [theme=dark] .colab-df-quickchart {\n",
              "      --bg-color: #3B4455;\n",
              "      --fill-color: #D2E3FC;\n",
              "      --hover-bg-color: #434B5C;\n",
              "      --hover-fill-color: #FFFFFF;\n",
              "      --disabled-bg-color: #3B4455;\n",
              "      --disabled-fill-color: #666;\n",
              "  }\n",
              "\n",
              "  .colab-df-quickchart {\n",
              "    background-color: var(--bg-color);\n",
              "    border: none;\n",
              "    border-radius: 50%;\n",
              "    cursor: pointer;\n",
              "    display: none;\n",
              "    fill: var(--fill-color);\n",
              "    height: 32px;\n",
              "    padding: 0;\n",
              "    width: 32px;\n",
              "  }\n",
              "\n",
              "  .colab-df-quickchart:hover {\n",
              "    background-color: var(--hover-bg-color);\n",
              "    box-shadow: 0 1px 2px rgba(60, 64, 67, 0.3), 0 1px 3px 1px rgba(60, 64, 67, 0.15);\n",
              "    fill: var(--button-hover-fill-color);\n",
              "  }\n",
              "\n",
              "  .colab-df-quickchart-complete:disabled,\n",
              "  .colab-df-quickchart-complete:disabled:hover {\n",
              "    background-color: var(--disabled-bg-color);\n",
              "    fill: var(--disabled-fill-color);\n",
              "    box-shadow: none;\n",
              "  }\n",
              "\n",
              "  .colab-df-spinner {\n",
              "    border: 2px solid var(--fill-color);\n",
              "    border-color: transparent;\n",
              "    border-bottom-color: var(--fill-color);\n",
              "    animation:\n",
              "      spin 1s steps(1) infinite;\n",
              "  }\n",
              "\n",
              "  @keyframes spin {\n",
              "    0% {\n",
              "      border-color: transparent;\n",
              "      border-bottom-color: var(--fill-color);\n",
              "      border-left-color: var(--fill-color);\n",
              "    }\n",
              "    20% {\n",
              "      border-color: transparent;\n",
              "      border-left-color: var(--fill-color);\n",
              "      border-top-color: var(--fill-color);\n",
              "    }\n",
              "    30% {\n",
              "      border-color: transparent;\n",
              "      border-left-color: var(--fill-color);\n",
              "      border-top-color: var(--fill-color);\n",
              "      border-right-color: var(--fill-color);\n",
              "    }\n",
              "    40% {\n",
              "      border-color: transparent;\n",
              "      border-right-color: var(--fill-color);\n",
              "      border-top-color: var(--fill-color);\n",
              "    }\n",
              "    60% {\n",
              "      border-color: transparent;\n",
              "      border-right-color: var(--fill-color);\n",
              "    }\n",
              "    80% {\n",
              "      border-color: transparent;\n",
              "      border-right-color: var(--fill-color);\n",
              "      border-bottom-color: var(--fill-color);\n",
              "    }\n",
              "    90% {\n",
              "      border-color: transparent;\n",
              "      border-bottom-color: var(--fill-color);\n",
              "    }\n",
              "  }\n",
              "</style>\n",
              "\n",
              "  <script>\n",
              "    async function quickchart(key) {\n",
              "      const quickchartButtonEl =\n",
              "        document.querySelector('#' + key + ' button');\n",
              "      quickchartButtonEl.disabled = true;  // To prevent multiple clicks.\n",
              "      quickchartButtonEl.classList.add('colab-df-spinner');\n",
              "      try {\n",
              "        const charts = await google.colab.kernel.invokeFunction(\n",
              "            'suggestCharts', [key], {});\n",
              "      } catch (error) {\n",
              "        console.error('Error during call to suggestCharts:', error);\n",
              "      }\n",
              "      quickchartButtonEl.classList.remove('colab-df-spinner');\n",
              "      quickchartButtonEl.classList.add('colab-df-quickchart-complete');\n",
              "    }\n",
              "    (() => {\n",
              "      let quickchartButtonEl =\n",
              "        document.querySelector('#df-9e5496f0-79f7-4ab0-acae-de964f29c33d button');\n",
              "      quickchartButtonEl.style.display =\n",
              "        google.colab.kernel.accessAllowed ? 'block' : 'none';\n",
              "    })();\n",
              "  </script>\n",
              "</div>\n",
              "\n",
              "    </div>\n",
              "  </div>\n"
            ]
          },
          "metadata": {},
          "execution_count": 10
        }
      ]
    },
    {
      "cell_type": "code",
      "source": [
        "location = []\n",
        "atc = new_data[\"HAttractions\"]\n",
        "gfw = new_data[\"HGFW\"]\n",
        "rn = new_data[\"HRestaurants\"]\n",
        "for i in range(1, len(new_data)+1):\n",
        "    loca = atc[i] + gfw[i] + rn[i]\n",
        "    location.append(loca)\n",
        "new_data[\"Location\"] = location\n",
        "print(new_data[[\"HName\", \"Location\"]].sample(10))"
      ],
      "metadata": {
        "id": "jyoUXh-X1Rlx",
        "colab": {
          "base_uri": "https://localhost:8080/"
        },
        "outputId": "bee30b27-1178-446b-87f1-68f63d68fc12"
      },
      "execution_count": 11,
      "outputs": [
        {
          "output_type": "stream",
          "name": "stdout",
          "text": [
            "                               HName  Location\n",
            "Index                                         \n",
            "54                   The Times Hotel     265.0\n",
            "69             Sunshine Hostel 3 Hue     274.0\n",
            "8               Thanh Lich Hue Hotel     265.0\n",
            "53                  Poetic Hue Hotel     268.0\n",
            "44                        DMZ Hostel     281.0\n",
            "7                New Valentine Hotel     250.0\n",
            "37                        Amy2hostel     265.0\n",
            "12     Muong Thanh Holiday Hue Hotel     294.0\n",
            "41                     Nhu Phu Hotel     275.0\n",
            "16            Hue Four Seasons Hotel     250.0\n"
          ]
        }
      ]
    },
    {
      "cell_type": "code",
      "source": [
        "#Xoa ky tu \"&\" trong cot\n",
        "new_data[\"HPMax\"] = new_data[\"HPMax\"].str.replace(r'\\D', '')"
      ],
      "metadata": {
        "id": "pPWIvEE35eUk",
        "colab": {
          "base_uri": "https://localhost:8080/"
        },
        "outputId": "bd89fe85-8843-4555-a556-b9f97e14d1c9"
      },
      "execution_count": 12,
      "outputs": [
        {
          "output_type": "stream",
          "name": "stderr",
          "text": [
            "<ipython-input-12-1c7ca86a766b>:2: FutureWarning: The default value of regex will change from True to False in a future version.\n",
            "  new_data[\"HPMax\"] = new_data[\"HPMax\"].str.replace(r'\\D', '')\n"
          ]
        }
      ]
    },
    {
      "cell_type": "markdown",
      "source": [
        "Phát biểu giả thuyết\n",
        "- $$H_{0}: \\mu_{0} = \\mu_{1}$$\n",
        "    Giá tiền tỉ lệ thuận với số lượng địa điểm vui chơi, ăn uống\n",
        "- $$H_{1}: \\mu_{0} <> \\mu_{1}$$\n",
        "    Giá tiền không tỉ lệ thuận với số lượng địa điểm vui chơi, ăn uống"
      ],
      "metadata": {
        "id": "5IJi_xjS4byD"
      }
    },
    {
      "cell_type": "code",
      "source": [
        "#Su dung thong ke t_test\n",
        "for i in range(1, len(new_data)+1):\n",
        "      new_data[\"HPMax\"] = new_data[\"HPMax\"].astype(int)\n",
        "      new_data[\"Location\"] = new_data[\"Location\"].astype(int)\n",
        "stat, p_value = stats.ttest_ind(new_data[\"HPMax\"], new_data[\"Location\"])\n",
        "print('Stat =', stat, 'P_value =', p_value)\n",
        "if p_value < 0.05:\n",
        "    print('''Có bằng chứng thống kê để bác bỏ giả thuyết H0. Điều này ngụ ý rằng\n",
        "          giá tiền khách sạn không tỉ lệ thuận với số lượng địa điểm vui chơi, ăn uống gần khách sạn''')\n",
        "else:\n",
        "    print('''Chưa có bằng chứng thống kê để bác bỏ giả thuyết H0. Điều này ngụ ý rằng\n",
        "          giá tiền khách sạn tỉ lệ thuận với số lượng địa điểm vui chơi, ăn uống gần khách sạn''')"
      ],
      "metadata": {
        "id": "EJf9g7G34bIY",
        "colab": {
          "base_uri": "https://localhost:8080/"
        },
        "outputId": "23bcc16f-becd-42cf-e93d-e671d327d47c"
      },
      "execution_count": 13,
      "outputs": [
        {
          "output_type": "stream",
          "name": "stdout",
          "text": [
            "Stat = -11.474055483278516 P_value = 1.7499803730252178e-22\n",
            "Có bằng chứng thống kê để bác bỏ giả thuyết H0. Điều này ngụ ý rằng\n",
            "          giá tiền khách sạn không tỉ lệ thuận với số lượng địa điểm vui chơi, ăn uống gần khách sạn\n"
          ]
        }
      ]
    },
    {
      "cell_type": "markdown",
      "source": [
        "Nhận xét: Giá tiền khách sạn không tỉ lệ thuận với số lượng địa điểm vui chơi, ăn uống gần khách sạn."
      ],
      "metadata": {
        "id": "3iPJNYeF_cP9"
      }
    },
    {
      "cell_type": "markdown",
      "source": [
        "HOTEL REVIEW COMMENTS"
      ],
      "metadata": {
        "id": "o-ZypTxXw_6l"
      }
    },
    {
      "cell_type": "code",
      "source": [
        "#doc file\n",
        "data_comment = pd.read_csv(\"ThuaThienHue.csv\")"
      ],
      "metadata": {
        "id": "mGfja-5oxNwo"
      },
      "execution_count": 14,
      "outputs": []
    },
    {
      "cell_type": "code",
      "source": [
        "data_comment.sample(4)"
      ],
      "metadata": {
        "id": "ZEvdBYwHxPx6",
        "colab": {
          "base_uri": "https://localhost:8080/",
          "height": 524
        },
        "outputId": "2f6b4d47-3512-4f31-f108-9a3a532160c1"
      },
      "execution_count": 15,
      "outputs": [
        {
          "output_type": "execute_result",
          "data": {
            "text/plain": [
              "                                                HComment       HCommenter  \\\n",
              "19054  I enjoyed my stay in Hue for couple of days. S...         Matias P   \n",
              "10615  The staff at the hotel were very friendly and ...  Old backpackers   \n",
              "14059  Great hotel in a great location. The art deco ...        Michael Q   \n",
              "9856   We enjoyed this hotel. The value was excellent...     skisnowridge   \n",
              "\n",
              "       HContribute   HDate  HThanks   HTime                       HTravelType  \\\n",
              "19054          7.0  Jan-18      3.0  18-Jan          Trip type: Traveled solo   \n",
              "10615          1.0  Sep-19      1.0  19-Sep   Trip type: Traveled as a couple   \n",
              "14059         21.0  Apr-13      5.0  13-May  Trip type: Traveled with friends   \n",
              "9856           3.0  Jan-15      3.0  15-Jan                               NaN   \n",
              "\n",
              "       HTravelerRating             h_Hotel_name  \\\n",
              "19054              5.0         Poetic Hue Hotel   \n",
              "10615              5.0    Holiday Diamond Hotel   \n",
              "14059              5.0  Azerai La Residence Hue   \n",
              "9856               5.0             Eldora Hotel   \n",
              "\n",
              "                   h_reviewer_address  \\\n",
              "19054                             NaN   \n",
              "10615                             NaN   \n",
              "14059  Grays Thurrock, United Kingdom   \n",
              "9856                              NaN   \n",
              "\n",
              "                                           h_reviewer_id    h_title_comment  \\\n",
              "19054     https://www.tripadvisor.com/Profile/MatiasP939    Easy travelling   \n",
              "10615  https://www.tripadvisor.com/Profile/backpackin...          Geraldine   \n",
              "14059    https://www.tripadvisor.com/Profile/MichaelQ993  Vietnam adventure   \n",
              "9856    https://www.tripadvisor.com/Profile/skisnowridge        Great hotel   \n",
              "\n",
              "                                                   h_url  \n",
              "19054  https://www.tripadvisor.com/Hotel_Review-g2939...  \n",
              "10615  https://www.tripadvisor.com/Hotel_Review-g2939...  \n",
              "14059  https://www.tripadvisor.com/Hotel_Review-g2939...  \n",
              "9856   https://www.tripadvisor.com/Hotel_Review-g2939...  "
            ],
            "text/html": [
              "\n",
              "  <div id=\"df-0708a0e6-a84d-43ce-bc54-eb0b56e6b74e\" class=\"colab-df-container\">\n",
              "    <div>\n",
              "<style scoped>\n",
              "    .dataframe tbody tr th:only-of-type {\n",
              "        vertical-align: middle;\n",
              "    }\n",
              "\n",
              "    .dataframe tbody tr th {\n",
              "        vertical-align: top;\n",
              "    }\n",
              "\n",
              "    .dataframe thead th {\n",
              "        text-align: right;\n",
              "    }\n",
              "</style>\n",
              "<table border=\"1\" class=\"dataframe\">\n",
              "  <thead>\n",
              "    <tr style=\"text-align: right;\">\n",
              "      <th></th>\n",
              "      <th>HComment</th>\n",
              "      <th>HCommenter</th>\n",
              "      <th>HContribute</th>\n",
              "      <th>HDate</th>\n",
              "      <th>HThanks</th>\n",
              "      <th>HTime</th>\n",
              "      <th>HTravelType</th>\n",
              "      <th>HTravelerRating</th>\n",
              "      <th>h_Hotel_name</th>\n",
              "      <th>h_reviewer_address</th>\n",
              "      <th>h_reviewer_id</th>\n",
              "      <th>h_title_comment</th>\n",
              "      <th>h_url</th>\n",
              "    </tr>\n",
              "  </thead>\n",
              "  <tbody>\n",
              "    <tr>\n",
              "      <th>19054</th>\n",
              "      <td>I enjoyed my stay in Hue for couple of days. S...</td>\n",
              "      <td>Matias P</td>\n",
              "      <td>7.0</td>\n",
              "      <td>Jan-18</td>\n",
              "      <td>3.0</td>\n",
              "      <td>18-Jan</td>\n",
              "      <td>Trip type: Traveled solo</td>\n",
              "      <td>5.0</td>\n",
              "      <td>Poetic Hue Hotel</td>\n",
              "      <td>NaN</td>\n",
              "      <td>https://www.tripadvisor.com/Profile/MatiasP939</td>\n",
              "      <td>Easy travelling</td>\n",
              "      <td>https://www.tripadvisor.com/Hotel_Review-g2939...</td>\n",
              "    </tr>\n",
              "    <tr>\n",
              "      <th>10615</th>\n",
              "      <td>The staff at the hotel were very friendly and ...</td>\n",
              "      <td>Old backpackers</td>\n",
              "      <td>1.0</td>\n",
              "      <td>Sep-19</td>\n",
              "      <td>1.0</td>\n",
              "      <td>19-Sep</td>\n",
              "      <td>Trip type: Traveled as a couple</td>\n",
              "      <td>5.0</td>\n",
              "      <td>Holiday Diamond Hotel</td>\n",
              "      <td>NaN</td>\n",
              "      <td>https://www.tripadvisor.com/Profile/backpackin...</td>\n",
              "      <td>Geraldine</td>\n",
              "      <td>https://www.tripadvisor.com/Hotel_Review-g2939...</td>\n",
              "    </tr>\n",
              "    <tr>\n",
              "      <th>14059</th>\n",
              "      <td>Great hotel in a great location. The art deco ...</td>\n",
              "      <td>Michael Q</td>\n",
              "      <td>21.0</td>\n",
              "      <td>Apr-13</td>\n",
              "      <td>5.0</td>\n",
              "      <td>13-May</td>\n",
              "      <td>Trip type: Traveled with friends</td>\n",
              "      <td>5.0</td>\n",
              "      <td>Azerai La Residence Hue</td>\n",
              "      <td>Grays Thurrock, United Kingdom</td>\n",
              "      <td>https://www.tripadvisor.com/Profile/MichaelQ993</td>\n",
              "      <td>Vietnam adventure</td>\n",
              "      <td>https://www.tripadvisor.com/Hotel_Review-g2939...</td>\n",
              "    </tr>\n",
              "    <tr>\n",
              "      <th>9856</th>\n",
              "      <td>We enjoyed this hotel. The value was excellent...</td>\n",
              "      <td>skisnowridge</td>\n",
              "      <td>3.0</td>\n",
              "      <td>Jan-15</td>\n",
              "      <td>3.0</td>\n",
              "      <td>15-Jan</td>\n",
              "      <td>NaN</td>\n",
              "      <td>5.0</td>\n",
              "      <td>Eldora Hotel</td>\n",
              "      <td>NaN</td>\n",
              "      <td>https://www.tripadvisor.com/Profile/skisnowridge</td>\n",
              "      <td>Great hotel</td>\n",
              "      <td>https://www.tripadvisor.com/Hotel_Review-g2939...</td>\n",
              "    </tr>\n",
              "  </tbody>\n",
              "</table>\n",
              "</div>\n",
              "    <div class=\"colab-df-buttons\">\n",
              "\n",
              "  <div class=\"colab-df-container\">\n",
              "    <button class=\"colab-df-convert\" onclick=\"convertToInteractive('df-0708a0e6-a84d-43ce-bc54-eb0b56e6b74e')\"\n",
              "            title=\"Convert this dataframe to an interactive table.\"\n",
              "            style=\"display:none;\">\n",
              "\n",
              "  <svg xmlns=\"http://www.w3.org/2000/svg\" height=\"24px\" viewBox=\"0 -960 960 960\">\n",
              "    <path d=\"M120-120v-720h720v720H120Zm60-500h600v-160H180v160Zm220 220h160v-160H400v160Zm0 220h160v-160H400v160ZM180-400h160v-160H180v160Zm440 0h160v-160H620v160ZM180-180h160v-160H180v160Zm440 0h160v-160H620v160Z\"/>\n",
              "  </svg>\n",
              "    </button>\n",
              "\n",
              "  <style>\n",
              "    .colab-df-container {\n",
              "      display:flex;\n",
              "      gap: 12px;\n",
              "    }\n",
              "\n",
              "    .colab-df-convert {\n",
              "      background-color: #E8F0FE;\n",
              "      border: none;\n",
              "      border-radius: 50%;\n",
              "      cursor: pointer;\n",
              "      display: none;\n",
              "      fill: #1967D2;\n",
              "      height: 32px;\n",
              "      padding: 0 0 0 0;\n",
              "      width: 32px;\n",
              "    }\n",
              "\n",
              "    .colab-df-convert:hover {\n",
              "      background-color: #E2EBFA;\n",
              "      box-shadow: 0px 1px 2px rgba(60, 64, 67, 0.3), 0px 1px 3px 1px rgba(60, 64, 67, 0.15);\n",
              "      fill: #174EA6;\n",
              "    }\n",
              "\n",
              "    .colab-df-buttons div {\n",
              "      margin-bottom: 4px;\n",
              "    }\n",
              "\n",
              "    [theme=dark] .colab-df-convert {\n",
              "      background-color: #3B4455;\n",
              "      fill: #D2E3FC;\n",
              "    }\n",
              "\n",
              "    [theme=dark] .colab-df-convert:hover {\n",
              "      background-color: #434B5C;\n",
              "      box-shadow: 0px 1px 3px 1px rgba(0, 0, 0, 0.15);\n",
              "      filter: drop-shadow(0px 1px 2px rgba(0, 0, 0, 0.3));\n",
              "      fill: #FFFFFF;\n",
              "    }\n",
              "  </style>\n",
              "\n",
              "    <script>\n",
              "      const buttonEl =\n",
              "        document.querySelector('#df-0708a0e6-a84d-43ce-bc54-eb0b56e6b74e button.colab-df-convert');\n",
              "      buttonEl.style.display =\n",
              "        google.colab.kernel.accessAllowed ? 'block' : 'none';\n",
              "\n",
              "      async function convertToInteractive(key) {\n",
              "        const element = document.querySelector('#df-0708a0e6-a84d-43ce-bc54-eb0b56e6b74e');\n",
              "        const dataTable =\n",
              "          await google.colab.kernel.invokeFunction('convertToInteractive',\n",
              "                                                    [key], {});\n",
              "        if (!dataTable) return;\n",
              "\n",
              "        const docLinkHtml = 'Like what you see? Visit the ' +\n",
              "          '<a target=\"_blank\" href=https://colab.research.google.com/notebooks/data_table.ipynb>data table notebook</a>'\n",
              "          + ' to learn more about interactive tables.';\n",
              "        element.innerHTML = '';\n",
              "        dataTable['output_type'] = 'display_data';\n",
              "        await google.colab.output.renderOutput(dataTable, element);\n",
              "        const docLink = document.createElement('div');\n",
              "        docLink.innerHTML = docLinkHtml;\n",
              "        element.appendChild(docLink);\n",
              "      }\n",
              "    </script>\n",
              "  </div>\n",
              "\n",
              "\n",
              "<div id=\"df-be8d2280-92e4-4256-9012-e8d5ffbcfcb0\">\n",
              "  <button class=\"colab-df-quickchart\" onclick=\"quickchart('df-be8d2280-92e4-4256-9012-e8d5ffbcfcb0')\"\n",
              "            title=\"Suggest charts\"\n",
              "            style=\"display:none;\">\n",
              "\n",
              "<svg xmlns=\"http://www.w3.org/2000/svg\" height=\"24px\"viewBox=\"0 0 24 24\"\n",
              "     width=\"24px\">\n",
              "    <g>\n",
              "        <path d=\"M19 3H5c-1.1 0-2 .9-2 2v14c0 1.1.9 2 2 2h14c1.1 0 2-.9 2-2V5c0-1.1-.9-2-2-2zM9 17H7v-7h2v7zm4 0h-2V7h2v10zm4 0h-2v-4h2v4z\"/>\n",
              "    </g>\n",
              "</svg>\n",
              "  </button>\n",
              "\n",
              "<style>\n",
              "  .colab-df-quickchart {\n",
              "      --bg-color: #E8F0FE;\n",
              "      --fill-color: #1967D2;\n",
              "      --hover-bg-color: #E2EBFA;\n",
              "      --hover-fill-color: #174EA6;\n",
              "      --disabled-fill-color: #AAA;\n",
              "      --disabled-bg-color: #DDD;\n",
              "  }\n",
              "\n",
              "  [theme=dark] .colab-df-quickchart {\n",
              "      --bg-color: #3B4455;\n",
              "      --fill-color: #D2E3FC;\n",
              "      --hover-bg-color: #434B5C;\n",
              "      --hover-fill-color: #FFFFFF;\n",
              "      --disabled-bg-color: #3B4455;\n",
              "      --disabled-fill-color: #666;\n",
              "  }\n",
              "\n",
              "  .colab-df-quickchart {\n",
              "    background-color: var(--bg-color);\n",
              "    border: none;\n",
              "    border-radius: 50%;\n",
              "    cursor: pointer;\n",
              "    display: none;\n",
              "    fill: var(--fill-color);\n",
              "    height: 32px;\n",
              "    padding: 0;\n",
              "    width: 32px;\n",
              "  }\n",
              "\n",
              "  .colab-df-quickchart:hover {\n",
              "    background-color: var(--hover-bg-color);\n",
              "    box-shadow: 0 1px 2px rgba(60, 64, 67, 0.3), 0 1px 3px 1px rgba(60, 64, 67, 0.15);\n",
              "    fill: var(--button-hover-fill-color);\n",
              "  }\n",
              "\n",
              "  .colab-df-quickchart-complete:disabled,\n",
              "  .colab-df-quickchart-complete:disabled:hover {\n",
              "    background-color: var(--disabled-bg-color);\n",
              "    fill: var(--disabled-fill-color);\n",
              "    box-shadow: none;\n",
              "  }\n",
              "\n",
              "  .colab-df-spinner {\n",
              "    border: 2px solid var(--fill-color);\n",
              "    border-color: transparent;\n",
              "    border-bottom-color: var(--fill-color);\n",
              "    animation:\n",
              "      spin 1s steps(1) infinite;\n",
              "  }\n",
              "\n",
              "  @keyframes spin {\n",
              "    0% {\n",
              "      border-color: transparent;\n",
              "      border-bottom-color: var(--fill-color);\n",
              "      border-left-color: var(--fill-color);\n",
              "    }\n",
              "    20% {\n",
              "      border-color: transparent;\n",
              "      border-left-color: var(--fill-color);\n",
              "      border-top-color: var(--fill-color);\n",
              "    }\n",
              "    30% {\n",
              "      border-color: transparent;\n",
              "      border-left-color: var(--fill-color);\n",
              "      border-top-color: var(--fill-color);\n",
              "      border-right-color: var(--fill-color);\n",
              "    }\n",
              "    40% {\n",
              "      border-color: transparent;\n",
              "      border-right-color: var(--fill-color);\n",
              "      border-top-color: var(--fill-color);\n",
              "    }\n",
              "    60% {\n",
              "      border-color: transparent;\n",
              "      border-right-color: var(--fill-color);\n",
              "    }\n",
              "    80% {\n",
              "      border-color: transparent;\n",
              "      border-right-color: var(--fill-color);\n",
              "      border-bottom-color: var(--fill-color);\n",
              "    }\n",
              "    90% {\n",
              "      border-color: transparent;\n",
              "      border-bottom-color: var(--fill-color);\n",
              "    }\n",
              "  }\n",
              "</style>\n",
              "\n",
              "  <script>\n",
              "    async function quickchart(key) {\n",
              "      const quickchartButtonEl =\n",
              "        document.querySelector('#' + key + ' button');\n",
              "      quickchartButtonEl.disabled = true;  // To prevent multiple clicks.\n",
              "      quickchartButtonEl.classList.add('colab-df-spinner');\n",
              "      try {\n",
              "        const charts = await google.colab.kernel.invokeFunction(\n",
              "            'suggestCharts', [key], {});\n",
              "      } catch (error) {\n",
              "        console.error('Error during call to suggestCharts:', error);\n",
              "      }\n",
              "      quickchartButtonEl.classList.remove('colab-df-spinner');\n",
              "      quickchartButtonEl.classList.add('colab-df-quickchart-complete');\n",
              "    }\n",
              "    (() => {\n",
              "      let quickchartButtonEl =\n",
              "        document.querySelector('#df-be8d2280-92e4-4256-9012-e8d5ffbcfcb0 button');\n",
              "      quickchartButtonEl.style.display =\n",
              "        google.colab.kernel.accessAllowed ? 'block' : 'none';\n",
              "    })();\n",
              "  </script>\n",
              "</div>\n",
              "\n",
              "    </div>\n",
              "  </div>\n"
            ]
          },
          "metadata": {},
          "execution_count": 15
        }
      ]
    },
    {
      "cell_type": "markdown",
      "source": [
        "Kiểm tra các giá trị null"
      ],
      "metadata": {
        "id": "z7px-Yq3BDcr"
      }
    },
    {
      "cell_type": "code",
      "source": [
        "# Kiem tra cac gia tri null\n",
        "data_comment.isnull().sum()"
      ],
      "metadata": {
        "id": "IEaLlzi1xi0q",
        "colab": {
          "base_uri": "https://localhost:8080/"
        },
        "outputId": "dfa135c4-4323-4933-f1c7-10da2a8d2b72"
      },
      "execution_count": 16,
      "outputs": [
        {
          "output_type": "execute_result",
          "data": {
            "text/plain": [
              "HComment               635\n",
              "HCommenter             636\n",
              "HContribute            650\n",
              "HDate                  661\n",
              "HThanks               3348\n",
              "HTime                  633\n",
              "HTravelType           3972\n",
              "HTravelerRating        628\n",
              "h_Hotel_name           620\n",
              "h_reviewer_address    5266\n",
              "h_reviewer_id          648\n",
              "h_title_comment        635\n",
              "h_url                    0\n",
              "dtype: int64"
            ]
          },
          "metadata": {},
          "execution_count": 16
        }
      ]
    },
    {
      "cell_type": "markdown",
      "source": [
        "Làm sạch dữ liệu"
      ],
      "metadata": {
        "id": "Pw2uUWy0Buoa"
      }
    },
    {
      "cell_type": "code",
      "source": [
        "import re\n",
        "\n",
        "def  clean_text(text):\n",
        "    \"\"\"\n",
        "    Lam sach cac du lieu van ban\n",
        "    * ky hieu\n",
        "    * doi thanh lower case\n",
        "    \"\"\"\n",
        "    text = text.str.lower()\n",
        "    text = text.apply(lambda T: re.sub(r\"(@[A-Za-z0-9]+)|([^0-9A-Za-z \\t])|(\\w+:\\/\\/\\S+)|^rt|http.+?\", \"\", str(T))  )\n",
        "\n",
        "    return text"
      ],
      "metadata": {
        "id": "J1n6oztGBVZP"
      },
      "execution_count": 17,
      "outputs": []
    },
    {
      "cell_type": "code",
      "source": [
        "data_comment.columns.values"
      ],
      "metadata": {
        "id": "XwxXcZS8B9Hj",
        "colab": {
          "base_uri": "https://localhost:8080/"
        },
        "outputId": "33250e4f-5a50-4445-bc49-d8a640b4c12e"
      },
      "execution_count": 18,
      "outputs": [
        {
          "output_type": "execute_result",
          "data": {
            "text/plain": [
              "array(['HComment', 'HCommenter', 'HContribute', 'HDate', 'HThanks',\n",
              "       'HTime', 'HTravelType', 'HTravelerRating', 'h_Hotel_name',\n",
              "       'h_reviewer_address', 'h_reviewer_id', 'h_title_comment', 'h_url'],\n",
              "      dtype=object)"
            ]
          },
          "metadata": {},
          "execution_count": 18
        }
      ]
    },
    {
      "cell_type": "code",
      "source": [
        "data_comment['HComment']= clean_text(data_comment['HComment'])"
      ],
      "metadata": {
        "id": "9yxsVsVUBqxl"
      },
      "execution_count": 19,
      "outputs": []
    },
    {
      "cell_type": "code",
      "source": [
        "data_comment[[\"HComment\", 'HTravelerRating']].sample(10)"
      ],
      "metadata": {
        "id": "aGckfpn7CjAF",
        "colab": {
          "base_uri": "https://localhost:8080/",
          "height": 363
        },
        "outputId": "828db73a-2931-4fa2-a984-283865f6f68f"
      },
      "execution_count": 20,
      "outputs": [
        {
          "output_type": "execute_result",
          "data": {
            "text/plain": [
              "                                                HComment  HTravelerRating\n",
              "20016  this was a great stay for me and my girlfriend...              5.0\n",
              "8062   stayed here for 2 nights in july staff could n...              4.0\n",
              "10397  this was so tranquil and relaxing in our villa...              5.0\n",
              "1434   we stayed here for three nights basic clean ho...              4.0\n",
              "15355  the location in an alley is pleasant in reduci...              5.0\n",
              "4851   we are touring vnm with children and old peopl...              5.0\n",
              "3238   this small hotel is pure bliss  from the momen...              5.0\n",
              "17289  everything was excellent the breakfast was del...              5.0\n",
              "1937   first i have to tell you about the woman in ch...              5.0\n",
              "21448  friendly staff very helpfull location very goo...              5.0"
            ],
            "text/html": [
              "\n",
              "  <div id=\"df-f527917d-b3c1-404f-a448-d60341e712ba\" class=\"colab-df-container\">\n",
              "    <div>\n",
              "<style scoped>\n",
              "    .dataframe tbody tr th:only-of-type {\n",
              "        vertical-align: middle;\n",
              "    }\n",
              "\n",
              "    .dataframe tbody tr th {\n",
              "        vertical-align: top;\n",
              "    }\n",
              "\n",
              "    .dataframe thead th {\n",
              "        text-align: right;\n",
              "    }\n",
              "</style>\n",
              "<table border=\"1\" class=\"dataframe\">\n",
              "  <thead>\n",
              "    <tr style=\"text-align: right;\">\n",
              "      <th></th>\n",
              "      <th>HComment</th>\n",
              "      <th>HTravelerRating</th>\n",
              "    </tr>\n",
              "  </thead>\n",
              "  <tbody>\n",
              "    <tr>\n",
              "      <th>20016</th>\n",
              "      <td>this was a great stay for me and my girlfriend...</td>\n",
              "      <td>5.0</td>\n",
              "    </tr>\n",
              "    <tr>\n",
              "      <th>8062</th>\n",
              "      <td>stayed here for 2 nights in july staff could n...</td>\n",
              "      <td>4.0</td>\n",
              "    </tr>\n",
              "    <tr>\n",
              "      <th>10397</th>\n",
              "      <td>this was so tranquil and relaxing in our villa...</td>\n",
              "      <td>5.0</td>\n",
              "    </tr>\n",
              "    <tr>\n",
              "      <th>1434</th>\n",
              "      <td>we stayed here for three nights basic clean ho...</td>\n",
              "      <td>4.0</td>\n",
              "    </tr>\n",
              "    <tr>\n",
              "      <th>15355</th>\n",
              "      <td>the location in an alley is pleasant in reduci...</td>\n",
              "      <td>5.0</td>\n",
              "    </tr>\n",
              "    <tr>\n",
              "      <th>4851</th>\n",
              "      <td>we are touring vnm with children and old peopl...</td>\n",
              "      <td>5.0</td>\n",
              "    </tr>\n",
              "    <tr>\n",
              "      <th>3238</th>\n",
              "      <td>this small hotel is pure bliss  from the momen...</td>\n",
              "      <td>5.0</td>\n",
              "    </tr>\n",
              "    <tr>\n",
              "      <th>17289</th>\n",
              "      <td>everything was excellent the breakfast was del...</td>\n",
              "      <td>5.0</td>\n",
              "    </tr>\n",
              "    <tr>\n",
              "      <th>1937</th>\n",
              "      <td>first i have to tell you about the woman in ch...</td>\n",
              "      <td>5.0</td>\n",
              "    </tr>\n",
              "    <tr>\n",
              "      <th>21448</th>\n",
              "      <td>friendly staff very helpfull location very goo...</td>\n",
              "      <td>5.0</td>\n",
              "    </tr>\n",
              "  </tbody>\n",
              "</table>\n",
              "</div>\n",
              "    <div class=\"colab-df-buttons\">\n",
              "\n",
              "  <div class=\"colab-df-container\">\n",
              "    <button class=\"colab-df-convert\" onclick=\"convertToInteractive('df-f527917d-b3c1-404f-a448-d60341e712ba')\"\n",
              "            title=\"Convert this dataframe to an interactive table.\"\n",
              "            style=\"display:none;\">\n",
              "\n",
              "  <svg xmlns=\"http://www.w3.org/2000/svg\" height=\"24px\" viewBox=\"0 -960 960 960\">\n",
              "    <path d=\"M120-120v-720h720v720H120Zm60-500h600v-160H180v160Zm220 220h160v-160H400v160Zm0 220h160v-160H400v160ZM180-400h160v-160H180v160Zm440 0h160v-160H620v160ZM180-180h160v-160H180v160Zm440 0h160v-160H620v160Z\"/>\n",
              "  </svg>\n",
              "    </button>\n",
              "\n",
              "  <style>\n",
              "    .colab-df-container {\n",
              "      display:flex;\n",
              "      gap: 12px;\n",
              "    }\n",
              "\n",
              "    .colab-df-convert {\n",
              "      background-color: #E8F0FE;\n",
              "      border: none;\n",
              "      border-radius: 50%;\n",
              "      cursor: pointer;\n",
              "      display: none;\n",
              "      fill: #1967D2;\n",
              "      height: 32px;\n",
              "      padding: 0 0 0 0;\n",
              "      width: 32px;\n",
              "    }\n",
              "\n",
              "    .colab-df-convert:hover {\n",
              "      background-color: #E2EBFA;\n",
              "      box-shadow: 0px 1px 2px rgba(60, 64, 67, 0.3), 0px 1px 3px 1px rgba(60, 64, 67, 0.15);\n",
              "      fill: #174EA6;\n",
              "    }\n",
              "\n",
              "    .colab-df-buttons div {\n",
              "      margin-bottom: 4px;\n",
              "    }\n",
              "\n",
              "    [theme=dark] .colab-df-convert {\n",
              "      background-color: #3B4455;\n",
              "      fill: #D2E3FC;\n",
              "    }\n",
              "\n",
              "    [theme=dark] .colab-df-convert:hover {\n",
              "      background-color: #434B5C;\n",
              "      box-shadow: 0px 1px 3px 1px rgba(0, 0, 0, 0.15);\n",
              "      filter: drop-shadow(0px 1px 2px rgba(0, 0, 0, 0.3));\n",
              "      fill: #FFFFFF;\n",
              "    }\n",
              "  </style>\n",
              "\n",
              "    <script>\n",
              "      const buttonEl =\n",
              "        document.querySelector('#df-f527917d-b3c1-404f-a448-d60341e712ba button.colab-df-convert');\n",
              "      buttonEl.style.display =\n",
              "        google.colab.kernel.accessAllowed ? 'block' : 'none';\n",
              "\n",
              "      async function convertToInteractive(key) {\n",
              "        const element = document.querySelector('#df-f527917d-b3c1-404f-a448-d60341e712ba');\n",
              "        const dataTable =\n",
              "          await google.colab.kernel.invokeFunction('convertToInteractive',\n",
              "                                                    [key], {});\n",
              "        if (!dataTable) return;\n",
              "\n",
              "        const docLinkHtml = 'Like what you see? Visit the ' +\n",
              "          '<a target=\"_blank\" href=https://colab.research.google.com/notebooks/data_table.ipynb>data table notebook</a>'\n",
              "          + ' to learn more about interactive tables.';\n",
              "        element.innerHTML = '';\n",
              "        dataTable['output_type'] = 'display_data';\n",
              "        await google.colab.output.renderOutput(dataTable, element);\n",
              "        const docLink = document.createElement('div');\n",
              "        docLink.innerHTML = docLinkHtml;\n",
              "        element.appendChild(docLink);\n",
              "      }\n",
              "    </script>\n",
              "  </div>\n",
              "\n",
              "\n",
              "<div id=\"df-970e5675-8b7a-433c-a343-1cab0af8f8c1\">\n",
              "  <button class=\"colab-df-quickchart\" onclick=\"quickchart('df-970e5675-8b7a-433c-a343-1cab0af8f8c1')\"\n",
              "            title=\"Suggest charts\"\n",
              "            style=\"display:none;\">\n",
              "\n",
              "<svg xmlns=\"http://www.w3.org/2000/svg\" height=\"24px\"viewBox=\"0 0 24 24\"\n",
              "     width=\"24px\">\n",
              "    <g>\n",
              "        <path d=\"M19 3H5c-1.1 0-2 .9-2 2v14c0 1.1.9 2 2 2h14c1.1 0 2-.9 2-2V5c0-1.1-.9-2-2-2zM9 17H7v-7h2v7zm4 0h-2V7h2v10zm4 0h-2v-4h2v4z\"/>\n",
              "    </g>\n",
              "</svg>\n",
              "  </button>\n",
              "\n",
              "<style>\n",
              "  .colab-df-quickchart {\n",
              "      --bg-color: #E8F0FE;\n",
              "      --fill-color: #1967D2;\n",
              "      --hover-bg-color: #E2EBFA;\n",
              "      --hover-fill-color: #174EA6;\n",
              "      --disabled-fill-color: #AAA;\n",
              "      --disabled-bg-color: #DDD;\n",
              "  }\n",
              "\n",
              "  [theme=dark] .colab-df-quickchart {\n",
              "      --bg-color: #3B4455;\n",
              "      --fill-color: #D2E3FC;\n",
              "      --hover-bg-color: #434B5C;\n",
              "      --hover-fill-color: #FFFFFF;\n",
              "      --disabled-bg-color: #3B4455;\n",
              "      --disabled-fill-color: #666;\n",
              "  }\n",
              "\n",
              "  .colab-df-quickchart {\n",
              "    background-color: var(--bg-color);\n",
              "    border: none;\n",
              "    border-radius: 50%;\n",
              "    cursor: pointer;\n",
              "    display: none;\n",
              "    fill: var(--fill-color);\n",
              "    height: 32px;\n",
              "    padding: 0;\n",
              "    width: 32px;\n",
              "  }\n",
              "\n",
              "  .colab-df-quickchart:hover {\n",
              "    background-color: var(--hover-bg-color);\n",
              "    box-shadow: 0 1px 2px rgba(60, 64, 67, 0.3), 0 1px 3px 1px rgba(60, 64, 67, 0.15);\n",
              "    fill: var(--button-hover-fill-color);\n",
              "  }\n",
              "\n",
              "  .colab-df-quickchart-complete:disabled,\n",
              "  .colab-df-quickchart-complete:disabled:hover {\n",
              "    background-color: var(--disabled-bg-color);\n",
              "    fill: var(--disabled-fill-color);\n",
              "    box-shadow: none;\n",
              "  }\n",
              "\n",
              "  .colab-df-spinner {\n",
              "    border: 2px solid var(--fill-color);\n",
              "    border-color: transparent;\n",
              "    border-bottom-color: var(--fill-color);\n",
              "    animation:\n",
              "      spin 1s steps(1) infinite;\n",
              "  }\n",
              "\n",
              "  @keyframes spin {\n",
              "    0% {\n",
              "      border-color: transparent;\n",
              "      border-bottom-color: var(--fill-color);\n",
              "      border-left-color: var(--fill-color);\n",
              "    }\n",
              "    20% {\n",
              "      border-color: transparent;\n",
              "      border-left-color: var(--fill-color);\n",
              "      border-top-color: var(--fill-color);\n",
              "    }\n",
              "    30% {\n",
              "      border-color: transparent;\n",
              "      border-left-color: var(--fill-color);\n",
              "      border-top-color: var(--fill-color);\n",
              "      border-right-color: var(--fill-color);\n",
              "    }\n",
              "    40% {\n",
              "      border-color: transparent;\n",
              "      border-right-color: var(--fill-color);\n",
              "      border-top-color: var(--fill-color);\n",
              "    }\n",
              "    60% {\n",
              "      border-color: transparent;\n",
              "      border-right-color: var(--fill-color);\n",
              "    }\n",
              "    80% {\n",
              "      border-color: transparent;\n",
              "      border-right-color: var(--fill-color);\n",
              "      border-bottom-color: var(--fill-color);\n",
              "    }\n",
              "    90% {\n",
              "      border-color: transparent;\n",
              "      border-bottom-color: var(--fill-color);\n",
              "    }\n",
              "  }\n",
              "</style>\n",
              "\n",
              "  <script>\n",
              "    async function quickchart(key) {\n",
              "      const quickchartButtonEl =\n",
              "        document.querySelector('#' + key + ' button');\n",
              "      quickchartButtonEl.disabled = true;  // To prevent multiple clicks.\n",
              "      quickchartButtonEl.classList.add('colab-df-spinner');\n",
              "      try {\n",
              "        const charts = await google.colab.kernel.invokeFunction(\n",
              "            'suggestCharts', [key], {});\n",
              "      } catch (error) {\n",
              "        console.error('Error during call to suggestCharts:', error);\n",
              "      }\n",
              "      quickchartButtonEl.classList.remove('colab-df-spinner');\n",
              "      quickchartButtonEl.classList.add('colab-df-quickchart-complete');\n",
              "    }\n",
              "    (() => {\n",
              "      let quickchartButtonEl =\n",
              "        document.querySelector('#df-970e5675-8b7a-433c-a343-1cab0af8f8c1 button');\n",
              "      quickchartButtonEl.style.display =\n",
              "        google.colab.kernel.accessAllowed ? 'block' : 'none';\n",
              "    })();\n",
              "  </script>\n",
              "</div>\n",
              "\n",
              "    </div>\n",
              "  </div>\n"
            ]
          },
          "metadata": {},
          "execution_count": 20
        }
      ]
    },
    {
      "cell_type": "markdown",
      "source": [
        "Đếm số lượng từng Rating"
      ],
      "metadata": {
        "id": "ZhEKQ5eJC8iO"
      }
    },
    {
      "cell_type": "code",
      "source": [
        "data_comment.HTravelerRating.value_counts()"
      ],
      "metadata": {
        "id": "VWZAm2fnC8BN",
        "colab": {
          "base_uri": "https://localhost:8080/"
        },
        "outputId": "b8b2b91d-9734-4c0e-dd00-c1f215254e99"
      },
      "execution_count": 21,
      "outputs": [
        {
          "output_type": "execute_result",
          "data": {
            "text/plain": [
              "5.0    15218\n",
              "4.0     4433\n",
              "3.0     1344\n",
              "2.0      525\n",
              "1.0      409\n",
              "Name: HTravelerRating, dtype: int64"
            ]
          },
          "metadata": {},
          "execution_count": 21
        }
      ]
    },
    {
      "cell_type": "code",
      "source": [
        "sns.countplot(data=data_comment,x='HTravelerRating', palette=\"Set3\")"
      ],
      "metadata": {
        "id": "DjVeNYl_DTBk",
        "colab": {
          "base_uri": "https://localhost:8080/",
          "height": 425
        },
        "outputId": "61c0c2e9-b0a7-4832-85b3-d01fa993096c"
      },
      "execution_count": 22,
      "outputs": [
        {
          "output_type": "execute_result",
          "data": {
            "text/plain": [
              "<Axes: xlabel='HTravelerRating', ylabel='count'>"
            ]
          },
          "metadata": {},
          "execution_count": 22
        },
        {
          "output_type": "display_data",
          "data": {
            "text/plain": [
              "<Figure size 800x450 with 1 Axes>"
            ],
            "image/png": "[encoded data removed]"
          },
          "metadata": {}
        }
      ]
    },
    {
      "cell_type": "markdown",
      "source": [
        "Nhận xét: Số lượng rating 5 sao cho các khách sạn ở Huế cao gấp nhiều lần tổng rating 1 đến 4 sao.\n",
        "\n",
        "=> Điều này có nghĩa rằng các khách sạn ở Huế rất tốt và phù hợp với nhu cầu của khách hàng.\n",
        "\n"
      ],
      "metadata": {
        "id": "Xo6WKadxD5s_"
      }
    },
    {
      "cell_type": "markdown",
      "source": [
        "Ta có thể thấy rõ rằng biến mục tiêu (Rating) không cân bằng, vì có sự khác biệt rất lớn trong rating từ 1 và 5. Vì vậy, ở đây ta sẽ sử dụng một số kỹ thuật lấy mẫu để cân bằng các lớp này."
      ],
      "metadata": {
        "id": "9qLcq5RHEZEN"
      }
    },
    {
      "cell_type": "markdown",
      "source": [
        "Lấy số lượng từ trong mỗi bài đánh giá"
      ],
      "metadata": {
        "id": "VXodvQnUEfJP"
      }
    },
    {
      "cell_type": "code",
      "source": [
        "## Lấy số lượng từ bằng cách tách chúng theo dấu cách\n",
        "words_per_review = [len(x.split(\" \")) for x in data_comment['HComment']]\n",
        "sns.distplot(words_per_review,fit=norm, kde=False)"
      ],
      "metadata": {
        "id": "g5Xy8j9rEg8_",
        "colab": {
          "base_uri": "https://localhost:8080/",
          "height": 610
        },
        "outputId": "08ce5628-7bfb-4da4-c245-86687f1427f8"
      },
      "execution_count": 23,
      "outputs": [
        {
          "output_type": "stream",
          "name": "stderr",
          "text": [
            "<ipython-input-23-dd1dd83a673a>:3: UserWarning: \n",
            "\n",
            "`distplot` is a deprecated function and will be removed in seaborn v0.14.0.\n",
            "\n",
            "Please adapt your code to use either `displot` (a figure-level function with\n",
            "similar flexibility) or `histplot` (an axes-level function for histograms).\n",
            "\n",
            "For a guide to updating your code to use the new functions, please see\n",
            "https://gist.github.com/mwaskom/de44147ed2974457ad6372750bbe5751\n",
            "\n",
            "  sns.distplot(words_per_review,fit=norm, kde=False)\n"
          ]
        },
        {
          "output_type": "execute_result",
          "data": {
            "text/plain": [
              "<Axes: >"
            ]
          },
          "metadata": {},
          "execution_count": 23
        },
        {
          "output_type": "display_data",
          "data": {
            "text/plain": [
              "<Figure size 800x450 with 1 Axes>"
            ],
            "image/png": "[encoded data removed]"
          },
          "metadata": {}
        }
      ]
    },
    {
      "cell_type": "markdown",
      "source": [
        "\n",
        "Wordcloud của các từ phổ biến nhất"
      ],
      "metadata": {
        "id": "P1iLsjvJE5s7"
      }
    },
    {
      "cell_type": "code",
      "source": [
        "def wordCloud_generator(data_comment):\n",
        "    wordcloud = WordCloud(width = 800, height = 800,\n",
        "                          background_color ='black',\n",
        "                          min_font_size = 10,\n",
        "                          colormap='Pastel1'\n",
        "                         ).generate(\" \".join(data_comment.values))\n",
        "    # plot the WordCloud image\n",
        "    plt.figure(figsize = (10, 10), facecolor = None)\n",
        "    plt.imshow(wordcloud, interpolation='bilinear')\n",
        "    plt.axis(\"off\")\n",
        "    plt.tight_layout(pad = 0)\n",
        "    plt.title(\"Most common words in Reviews\",fontsize=30)\n",
        "    plt.show()\n",
        "\n",
        "wordCloud_generator(data_comment['HComment'])"
      ],
      "metadata": {
        "id": "1ZONUdIqE6jJ",
        "colab": {
          "base_uri": "https://localhost:8080/",
          "height": 547
        },
        "outputId": "cc63b764-4e81-4d0c-ecf9-443240627ca0"
      },
      "execution_count": 24,
      "outputs": [
        {
          "output_type": "display_data",
          "data": {
            "text/plain": [
              "<Figure size 500x500 with 1 Axes>"
            ],
            "image/png": "[encoded data removed]"
          },
          "metadata": {}
        }
      ]
    },
    {
      "cell_type": "markdown",
      "source": [
        "## **PHÂN TÍCH DỮ LIỆU VÀ SỬ DỤNG CÁC THUẬT TOÁN TỐI ƯU**"
      ],
      "metadata": {
        "id": "Ixni-xSjWRYe"
      }
    },
    {
      "cell_type": "markdown",
      "source": [
        "## Xử lý trước văn bản\n",
        "\n",
        "\n",
        "Bây giờ, ta sẽ xử lý trước các comment bằng cách sử dụng một số công cụ NLP như:\n",
        "1. Chuyển thành lower case\n",
        "2. Xoá dấu chấm câu\n",
        "3. Xoá những từ dừng\n",
        "4. Stemming\n",
        "5. Bổ sung"
      ],
      "metadata": {
        "id": "RgBKsTjoFe-T"
      }
    },
    {
      "cell_type": "code",
      "source": [
        "import nltk\n",
        "nltk.download('all')\n",
        "from nltk.corpus import stopwords\n",
        "from nltk.stem import WordNetLemmatizer"
      ],
      "metadata": {
        "id": "cOCS1UHyHFj7"
      },
      "execution_count": null,
      "outputs": []
    },
    {
      "cell_type": "code",
      "source": [
        "punc=string.punctuation\n",
        "\n",
        "stop_words = set(stopwords.words('english'))\n",
        "\n",
        "stemmer = PorterStemmer()\n",
        "\n",
        "lemmatizer = WordNetLemmatizer()\n",
        "\n",
        "def data_preprocessing(txt):\n",
        "\n",
        "    #converting to lowercase\n",
        "    txt=txt.lower()\n",
        "\n",
        "    #Removing Punctuation\n",
        "    txt=\"\".join([x for x in txt if x not in punc])\n",
        "\n",
        "    #Removing stopwords\n",
        "    txt=\" \".join([word for word in str(txt).split() if word not in stop_words])\n",
        "\n",
        "    #Stemming\n",
        "    txt = \" \".join([stemmer.stem(word) for word in txt.split()])\n",
        "\n",
        "    #Lemmatization\n",
        "    txt = \" \".join([lemmatizer.lemmatize(word) for word in txt.split()])\n",
        "\n",
        "    return txt\n",
        "\n",
        "data_comment['text'] = data_comment['HComment'].apply(data_preprocessing)"
      ],
      "metadata": {
        "id": "HCDQ1XpVGGql"
      },
      "execution_count": 26,
      "outputs": []
    },
    {
      "cell_type": "code",
      "source": [
        "data_rating = data_comment[[\"HComment\", 'HTravelerRating', 'text']]"
      ],
      "metadata": {
        "id": "0NhEtOk3IkRV"
      },
      "execution_count": 27,
      "outputs": []
    },
    {
      "cell_type": "code",
      "source": [
        "# Xoa cac hang co chua gia tri null\n",
        "data_rating = data_rating[data_rating['HComment'].notna()]\n",
        "data_rating = data_rating[data_rating['HTravelerRating'].notna()]\n",
        "data_rating = data_rating[data_rating['text'].notna()]"
      ],
      "metadata": {
        "id": "s5oi-Az7Bey3"
      },
      "execution_count": 28,
      "outputs": []
    },
    {
      "cell_type": "code",
      "source": [
        "#Xem tap du lieu moi\n",
        "data_rating"
      ],
      "metadata": {
        "id": "5sIuGVJTCt5c",
        "colab": {
          "base_uri": "https://localhost:8080/",
          "height": 423
        },
        "outputId": "aef15050-d10e-486c-cb41-051a184bff64"
      },
      "execution_count": 29,
      "outputs": [
        {
          "output_type": "execute_result",
          "data": {
            "text/plain": [
              "                                                HComment  HTravelerRating  \\\n",
              "1      fantastic room excellent staff and fabulous ex...              5.0   \n",
              "2      we stayed at azerai la residence hue during th...              5.0   \n",
              "3      im just back from two nights at the azerai la ...              5.0   \n",
              "4      we stayed here for four nights in april 2021 o...              5.0   \n",
              "5      we spent a few days exploring hu and we were v...              5.0   \n",
              "...                                                  ...              ...   \n",
              "22552  we were pleased with the room compared to othe...              4.0   \n",
              "22553  we were met by the owner in the street he conv...              4.0   \n",
              "22554  stayed for two nights and chose the penthouse ...              4.0   \n",
              "22555  guidebook recommendation we got a big airy roo...              3.0   \n",
              "22556  we stayed at binh duong 3 for three nights in ...              4.0   \n",
              "\n",
              "                                                    text  \n",
              "1      fantast room excel staff fabul excurs outsid c...  \n",
              "2      stay azerai la resid hue tet holiday group 3 f...  \n",
              "3      im back two night azerai la resid delight stay...  \n",
              "4      stay four night april 2021 obvious covid pande...  \n",
              "5      spent day explor hu happi everyth hotel comfor...  \n",
              "...                                                  ...  \n",
              "22552       plea room compar other price rang help staff  \n",
              "22553  met owner street convinc u choos hotel disappo...  \n",
              "22554  stay two night chose penthous option fun binh ...  \n",
              "22555  guidebook recommend got big airi room top floo...  \n",
              "22556  stay binh duong 3 three night late decemb 2008...  \n",
              "\n",
              "[21929 rows x 3 columns]"
            ],
            "text/html": [
              "\n",
              "  <div id=\"df-d776bfc8-cf3c-4f18-b4ca-11457b6cde2a\" class=\"colab-df-container\">\n",
              "    <div>\n",
              "<style scoped>\n",
              "    .dataframe tbody tr th:only-of-type {\n",
              "        vertical-align: middle;\n",
              "    }\n",
              "\n",
              "    .dataframe tbody tr th {\n",
              "        vertical-align: top;\n",
              "    }\n",
              "\n",
              "    .dataframe thead th {\n",
              "        text-align: right;\n",
              "    }\n",
              "</style>\n",
              "<table border=\"1\" class=\"dataframe\">\n",
              "  <thead>\n",
              "    <tr style=\"text-align: right;\">\n",
              "      <th></th>\n",
              "      <th>HComment</th>\n",
              "      <th>HTravelerRating</th>\n",
              "      <th>text</th>\n",
              "    </tr>\n",
              "  </thead>\n",
              "  <tbody>\n",
              "    <tr>\n",
              "      <th>1</th>\n",
              "      <td>fantastic room excellent staff and fabulous ex...</td>\n",
              "      <td>5.0</td>\n",
              "      <td>fantast room excel staff fabul excurs outsid c...</td>\n",
              "    </tr>\n",
              "    <tr>\n",
              "      <th>2</th>\n",
              "      <td>we stayed at azerai la residence hue during th...</td>\n",
              "      <td>5.0</td>\n",
              "      <td>stay azerai la resid hue tet holiday group 3 f...</td>\n",
              "    </tr>\n",
              "    <tr>\n",
              "      <th>3</th>\n",
              "      <td>im just back from two nights at the azerai la ...</td>\n",
              "      <td>5.0</td>\n",
              "      <td>im back two night azerai la resid delight stay...</td>\n",
              "    </tr>\n",
              "    <tr>\n",
              "      <th>4</th>\n",
              "      <td>we stayed here for four nights in april 2021 o...</td>\n",
              "      <td>5.0</td>\n",
              "      <td>stay four night april 2021 obvious covid pande...</td>\n",
              "    </tr>\n",
              "    <tr>\n",
              "      <th>5</th>\n",
              "      <td>we spent a few days exploring hu and we were v...</td>\n",
              "      <td>5.0</td>\n",
              "      <td>spent day explor hu happi everyth hotel comfor...</td>\n",
              "    </tr>\n",
              "    <tr>\n",
              "      <th>...</th>\n",
              "      <td>...</td>\n",
              "      <td>...</td>\n",
              "      <td>...</td>\n",
              "    </tr>\n",
              "    <tr>\n",
              "      <th>22552</th>\n",
              "      <td>we were pleased with the room compared to othe...</td>\n",
              "      <td>4.0</td>\n",
              "      <td>plea room compar other price rang help staff</td>\n",
              "    </tr>\n",
              "    <tr>\n",
              "      <th>22553</th>\n",
              "      <td>we were met by the owner in the street he conv...</td>\n",
              "      <td>4.0</td>\n",
              "      <td>met owner street convinc u choos hotel disappo...</td>\n",
              "    </tr>\n",
              "    <tr>\n",
              "      <th>22554</th>\n",
              "      <td>stayed for two nights and chose the penthouse ...</td>\n",
              "      <td>4.0</td>\n",
              "      <td>stay two night chose penthous option fun binh ...</td>\n",
              "    </tr>\n",
              "    <tr>\n",
              "      <th>22555</th>\n",
              "      <td>guidebook recommendation we got a big airy roo...</td>\n",
              "      <td>3.0</td>\n",
              "      <td>guidebook recommend got big airi room top floo...</td>\n",
              "    </tr>\n",
              "    <tr>\n",
              "      <th>22556</th>\n",
              "      <td>we stayed at binh duong 3 for three nights in ...</td>\n",
              "      <td>4.0</td>\n",
              "      <td>stay binh duong 3 three night late decemb 2008...</td>\n",
              "    </tr>\n",
              "  </tbody>\n",
              "</table>\n",
              "<p>21929 rows × 3 columns</p>\n",
              "</div>\n",
              "    <div class=\"colab-df-buttons\">\n",
              "\n",
              "  <div class=\"colab-df-container\">\n",
              "    <button class=\"colab-df-convert\" onclick=\"convertToInteractive('df-d776bfc8-cf3c-4f18-b4ca-11457b6cde2a')\"\n",
              "            title=\"Convert this dataframe to an interactive table.\"\n",
              "            style=\"display:none;\">\n",
              "\n",
              "  <svg xmlns=\"http://www.w3.org/2000/svg\" height=\"24px\" viewBox=\"0 -960 960 960\">\n",
              "    <path d=\"M120-120v-720h720v720H120Zm60-500h600v-160H180v160Zm220 220h160v-160H400v160Zm0 220h160v-160H400v160ZM180-400h160v-160H180v160Zm440 0h160v-160H620v160ZM180-180h160v-160H180v160Zm440 0h160v-160H620v160Z\"/>\n",
              "  </svg>\n",
              "    </button>\n",
              "\n",
              "  <style>\n",
              "    .colab-df-container {\n",
              "      display:flex;\n",
              "      gap: 12px;\n",
              "    }\n",
              "\n",
              "    .colab-df-convert {\n",
              "      background-color: #E8F0FE;\n",
              "      border: none;\n",
              "      border-radius: 50%;\n",
              "      cursor: pointer;\n",
              "      display: none;\n",
              "      fill: #1967D2;\n",
              "      height: 32px;\n",
              "      padding: 0 0 0 0;\n",
              "      width: 32px;\n",
              "    }\n",
              "\n",
              "    .colab-df-convert:hover {\n",
              "      background-color: #E2EBFA;\n",
              "      box-shadow: 0px 1px 2px rgba(60, 64, 67, 0.3), 0px 1px 3px 1px rgba(60, 64, 67, 0.15);\n",
              "      fill: #174EA6;\n",
              "    }\n",
              "\n",
              "    .colab-df-buttons div {\n",
              "      margin-bottom: 4px;\n",
              "    }\n",
              "\n",
              "    [theme=dark] .colab-df-convert {\n",
              "      background-color: #3B4455;\n",
              "      fill: #D2E3FC;\n",
              "    }\n",
              "\n",
              "    [theme=dark] .colab-df-convert:hover {\n",
              "      background-color: #434B5C;\n",
              "      box-shadow: 0px 1px 3px 1px rgba(0, 0, 0, 0.15);\n",
              "      filter: drop-shadow(0px 1px 2px rgba(0, 0, 0, 0.3));\n",
              "      fill: #FFFFFF;\n",
              "    }\n",
              "  </style>\n",
              "\n",
              "    <script>\n",
              "      const buttonEl =\n",
              "        document.querySelector('#df-d776bfc8-cf3c-4f18-b4ca-11457b6cde2a button.colab-df-convert');\n",
              "      buttonEl.style.display =\n",
              "        google.colab.kernel.accessAllowed ? 'block' : 'none';\n",
              "\n",
              "      async function convertToInteractive(key) {\n",
              "        const element = document.querySelector('#df-d776bfc8-cf3c-4f18-b4ca-11457b6cde2a');\n",
              "        const dataTable =\n",
              "          await google.colab.kernel.invokeFunction('convertToInteractive',\n",
              "                                                    [key], {});\n",
              "        if (!dataTable) return;\n",
              "\n",
              "        const docLinkHtml = 'Like what you see? Visit the ' +\n",
              "          '<a target=\"_blank\" href=https://colab.research.google.com/notebooks/data_table.ipynb>data table notebook</a>'\n",
              "          + ' to learn more about interactive tables.';\n",
              "        element.innerHTML = '';\n",
              "        dataTable['output_type'] = 'display_data';\n",
              "        await google.colab.output.renderOutput(dataTable, element);\n",
              "        const docLink = document.createElement('div');\n",
              "        docLink.innerHTML = docLinkHtml;\n",
              "        element.appendChild(docLink);\n",
              "      }\n",
              "    </script>\n",
              "  </div>\n",
              "\n",
              "\n",
              "<div id=\"df-18385a44-c6db-499d-99f1-0affa3e4e0fe\">\n",
              "  <button class=\"colab-df-quickchart\" onclick=\"quickchart('df-18385a44-c6db-499d-99f1-0affa3e4e0fe')\"\n",
              "            title=\"Suggest charts\"\n",
              "            style=\"display:none;\">\n",
              "\n",
              "<svg xmlns=\"http://www.w3.org/2000/svg\" height=\"24px\"viewBox=\"0 0 24 24\"\n",
              "     width=\"24px\">\n",
              "    <g>\n",
              "        <path d=\"M19 3H5c-1.1 0-2 .9-2 2v14c0 1.1.9 2 2 2h14c1.1 0 2-.9 2-2V5c0-1.1-.9-2-2-2zM9 17H7v-7h2v7zm4 0h-2V7h2v10zm4 0h-2v-4h2v4z\"/>\n",
              "    </g>\n",
              "</svg>\n",
              "  </button>\n",
              "\n",
              "<style>\n",
              "  .colab-df-quickchart {\n",
              "      --bg-color: #E8F0FE;\n",
              "      --fill-color: #1967D2;\n",
              "      --hover-bg-color: #E2EBFA;\n",
              "      --hover-fill-color: #174EA6;\n",
              "      --disabled-fill-color: #AAA;\n",
              "      --disabled-bg-color: #DDD;\n",
              "  }\n",
              "\n",
              "  [theme=dark] .colab-df-quickchart {\n",
              "      --bg-color: #3B4455;\n",
              "      --fill-color: #D2E3FC;\n",
              "      --hover-bg-color: #434B5C;\n",
              "      --hover-fill-color: #FFFFFF;\n",
              "      --disabled-bg-color: #3B4455;\n",
              "      --disabled-fill-color: #666;\n",
              "  }\n",
              "\n",
              "  .colab-df-quickchart {\n",
              "    background-color: var(--bg-color);\n",
              "    border: none;\n",
              "    border-radius: 50%;\n",
              "    cursor: pointer;\n",
              "    display: none;\n",
              "    fill: var(--fill-color);\n",
              "    height: 32px;\n",
              "    padding: 0;\n",
              "    width: 32px;\n",
              "  }\n",
              "\n",
              "  .colab-df-quickchart:hover {\n",
              "    background-color: var(--hover-bg-color);\n",
              "    box-shadow: 0 1px 2px rgba(60, 64, 67, 0.3), 0 1px 3px 1px rgba(60, 64, 67, 0.15);\n",
              "    fill: var(--button-hover-fill-color);\n",
              "  }\n",
              "\n",
              "  .colab-df-quickchart-complete:disabled,\n",
              "  .colab-df-quickchart-complete:disabled:hover {\n",
              "    background-color: var(--disabled-bg-color);\n",
              "    fill: var(--disabled-fill-color);\n",
              "    box-shadow: none;\n",
              "  }\n",
              "\n",
              "  .colab-df-spinner {\n",
              "    border: 2px solid var(--fill-color);\n",
              "    border-color: transparent;\n",
              "    border-bottom-color: var(--fill-color);\n",
              "    animation:\n",
              "      spin 1s steps(1) infinite;\n",
              "  }\n",
              "\n",
              "  @keyframes spin {\n",
              "    0% {\n",
              "      border-color: transparent;\n",
              "      border-bottom-color: var(--fill-color);\n",
              "      border-left-color: var(--fill-color);\n",
              "    }\n",
              "    20% {\n",
              "      border-color: transparent;\n",
              "      border-left-color: var(--fill-color);\n",
              "      border-top-color: var(--fill-color);\n",
              "    }\n",
              "    30% {\n",
              "      border-color: transparent;\n",
              "      border-left-color: var(--fill-color);\n",
              "      border-top-color: var(--fill-color);\n",
              "      border-right-color: var(--fill-color);\n",
              "    }\n",
              "    40% {\n",
              "      border-color: transparent;\n",
              "      border-right-color: var(--fill-color);\n",
              "      border-top-color: var(--fill-color);\n",
              "    }\n",
              "    60% {\n",
              "      border-color: transparent;\n",
              "      border-right-color: var(--fill-color);\n",
              "    }\n",
              "    80% {\n",
              "      border-color: transparent;\n",
              "      border-right-color: var(--fill-color);\n",
              "      border-bottom-color: var(--fill-color);\n",
              "    }\n",
              "    90% {\n",
              "      border-color: transparent;\n",
              "      border-bottom-color: var(--fill-color);\n",
              "    }\n",
              "  }\n",
              "</style>\n",
              "\n",
              "  <script>\n",
              "    async function quickchart(key) {\n",
              "      const quickchartButtonEl =\n",
              "        document.querySelector('#' + key + ' button');\n",
              "      quickchartButtonEl.disabled = true;  // To prevent multiple clicks.\n",
              "      quickchartButtonEl.classList.add('colab-df-spinner');\n",
              "      try {\n",
              "        const charts = await google.colab.kernel.invokeFunction(\n",
              "            'suggestCharts', [key], {});\n",
              "      } catch (error) {\n",
              "        console.error('Error during call to suggestCharts:', error);\n",
              "      }\n",
              "      quickchartButtonEl.classList.remove('colab-df-spinner');\n",
              "      quickchartButtonEl.classList.add('colab-df-quickchart-complete');\n",
              "    }\n",
              "    (() => {\n",
              "      let quickchartButtonEl =\n",
              "        document.querySelector('#df-18385a44-c6db-499d-99f1-0affa3e4e0fe button');\n",
              "      quickchartButtonEl.style.display =\n",
              "        google.colab.kernel.accessAllowed ? 'block' : 'none';\n",
              "    })();\n",
              "  </script>\n",
              "</div>\n",
              "\n",
              "  <div id=\"id_6372e4d8-a5fc-4ae1-b3e4-83a3927a79e1\">\n",
              "    <style>\n",
              "      .colab-df-generate {\n",
              "        background-color: #E8F0FE;\n",
              "        border: none;\n",
              "        border-radius: 50%;\n",
              "        cursor: pointer;\n",
              "        display: none;\n",
              "        fill: #1967D2;\n",
              "        height: 32px;\n",
              "        padding: 0 0 0 0;\n",
              "        width: 32px;\n",
              "      }\n",
              "\n",
              "      .colab-df-generate:hover {\n",
              "        background-color: #E2EBFA;\n",
              "        box-shadow: 0px 1px 2px rgba(60, 64, 67, 0.3), 0px 1px 3px 1px rgba(60, 64, 67, 0.15);\n",
              "        fill: #174EA6;\n",
              "      }\n",
              "\n",
              "      [theme=dark] .colab-df-generate {\n",
              "        background-color: #3B4455;\n",
              "        fill: #D2E3FC;\n",
              "      }\n",
              "\n",
              "      [theme=dark] .colab-df-generate:hover {\n",
              "        background-color: #434B5C;\n",
              "        box-shadow: 0px 1px 3px 1px rgba(0, 0, 0, 0.15);\n",
              "        filter: drop-shadow(0px 1px 2px rgba(0, 0, 0, 0.3));\n",
              "        fill: #FFFFFF;\n",
              "      }\n",
              "    </style>\n",
              "    <button class=\"colab-df-generate\" onclick=\"generateWithVariable('data_rating')\"\n",
              "            title=\"Generate code using this dataframe.\"\n",
              "            style=\"display:none;\">\n",
              "\n",
              "  <svg xmlns=\"http://www.w3.org/2000/svg\" height=\"24px\"viewBox=\"0 0 24 24\"\n",
              "       width=\"24px\">\n",
              "    <path d=\"M7,19H8.4L18.45,9,17,7.55,7,17.6ZM5,21V16.75L18.45,3.32a2,2,0,0,1,2.83,0l1.4,1.43a1.91,1.91,0,0,1,.58,1.4,1.91,1.91,0,0,1-.58,1.4L9.25,21ZM18.45,9,17,7.55Zm-12,3A5.31,5.31,0,0,0,4.9,8.1,5.31,5.31,0,0,0,1,6.5,5.31,5.31,0,0,0,4.9,4.9,5.31,5.31,0,0,0,6.5,1,5.31,5.31,0,0,0,8.1,4.9,5.31,5.31,0,0,0,12,6.5,5.46,5.46,0,0,0,6.5,12Z\"/>\n",
              "  </svg>\n",
              "    </button>\n",
              "    <script>\n",
              "      (() => {\n",
              "      const buttonEl =\n",
              "        document.querySelector('#id_6372e4d8-a5fc-4ae1-b3e4-83a3927a79e1 button.colab-df-generate');\n",
              "      buttonEl.style.display =\n",
              "        google.colab.kernel.accessAllowed ? 'block' : 'none';\n",
              "\n",
              "      buttonEl.onclick = () => {\n",
              "        google.colab.notebook.generateWithVariable('data_rating');\n",
              "      }\n",
              "      })();\n",
              "    </script>\n",
              "  </div>\n",
              "\n",
              "    </div>\n",
              "  </div>\n"
            ]
          },
          "metadata": {},
          "execution_count": 29
        }
      ]
    },
    {
      "cell_type": "markdown",
      "source": [
        "## Dự đoán mức độ hài lòng đặt phòng khách sạn qua Rating từ 1 đến 5 sao\n",
        "\n",
        "Thư viện: [machine_learning, scikit-learn, logistic_regression, kNN, decision_tree, random_forest, adaboost, naive_bayes, quadratic_discriminant_analysis, gaussian_process,,...]"
      ],
      "metadata": {
        "id": "QzkS7RpWWsaG"
      }
    },
    {
      "cell_type": "markdown",
      "source": [
        "Chúng ta sẽ xem xét việc áp dụng các thuật toán Machine Learning cho tập dữ liệu lấy từ TripAdvisor để phân loại xem xét, phân loại và dự đoán mức độ hài lòng đặt phòng khách sạn ở Thừa Thiên Huế.\n",
        "\n",
        "Ta sẽ sử dụng thuật toán scikit-learn để xử lý tập dữ liệu này."
      ],
      "metadata": {
        "id": "jlH2yP5yXYmc"
      }
    },
    {
      "cell_type": "markdown",
      "source": [
        "## Tập dữ liệu"
      ],
      "metadata": {
        "id": "WL9C8toVYRm9"
      }
    },
    {
      "cell_type": "markdown",
      "source": [
        "# Chi tiết về tập dữ liệu\n",
        "\n",
        "Đặc điểm của tập dữ liệu: Đa biến\n",
        "\n",
        "Đặc điểm thuộc tính: Số nguyên\n",
        "\n",
        "Nhiệm vụ liên quan: Phân loại\n",
        "\n",
        "Số lượng instance: 22556\n",
        "\n",
        "Số thuộc tính: 3\n",
        "\n",
        "Khu vực: Các khách sạn ở Thừa Thiên"
      ],
      "metadata": {
        "id": "xSXOi-WaYWj8"
      }
    },
    {
      "cell_type": "markdown",
      "source": [
        "# Thông tin thuộc tính\n",
        "\n",
        "1.HComment: Bình luận, đánh giá của khách hàng\n",
        "\n",
        "2.HTravelerRating: 1- 5 sao\n",
        "\n",
        "3.text: HComment đã chỉnh sửa"
      ],
      "metadata": {
        "id": "8CRWLskqZAU-"
      }
    },
    {
      "cell_type": "markdown",
      "source": [
        "Ta sẽ sử dụng HTravelerRating và text cho phần phân tích dữ liệu và dự báo này"
      ],
      "metadata": {
        "id": "e8nDVYnvZjDy"
      }
    },
    {
      "cell_type": "markdown",
      "source": [
        "## Vectơ hóa văn bản đầu vào"
      ],
      "metadata": {
        "id": "p9qDhpggI7NF"
      }
    },
    {
      "cell_type": "markdown",
      "source": [
        "Bây giờ chúng ta sẽ vectơ rating bằng cách sử dụng điểm TF-IDF và chúng ta sẽ sử dụng toarray () để chuyển đổi ma trận thưa thớt kết quả thành ma trận dày đặc.\n",
        "\n",
        "\n"
      ],
      "metadata": {
        "id": "MaEvEW2DI8Pq"
      }
    },
    {
      "cell_type": "code",
      "source": [
        "### Tạo một đối tượng của class TfidfVectorizer\n",
        "from sklearn.feature_extraction.text import TfidfVectorizer\n",
        "tfidfconverter = TfidfVectorizer(max_features=400, min_df=0.05, max_df=0.9)\n",
        "tfidf = tfidfconverter.fit_transform(data_rating['text']).toarray()"
      ],
      "metadata": {
        "id": "_TML_WYbI72D"
      },
      "execution_count": 30,
      "outputs": []
    },
    {
      "cell_type": "markdown",
      "source": [
        "## Chia thành các training sets và test sets"
      ],
      "metadata": {
        "id": "ZMGz36JeJqMk"
      }
    },
    {
      "cell_type": "code",
      "source": [
        "X_train, X_test, y_train, y_test = train_test_split(tfidf,data_rating['HTravelerRating'],test_size=0.2,random_state=42)"
      ],
      "metadata": {
        "id": "NwT4EEZVI628"
      },
      "execution_count": 31,
      "outputs": []
    },
    {
      "cell_type": "markdown",
      "source": [
        "## Lấy mẫu ngược bằng SMOTE\n",
        "\n",
        "Vì biến mục tiêu của ta không cân bằng, ta sẽ sử dụng thuật toán SMOTE để lấy mẫu thêm cho các lớp thiểu số."
      ],
      "metadata": {
        "id": "u4n94w2YJ99D"
      }
    },
    {
      "cell_type": "code",
      "source": [
        "from sklearn.utils import resample\n",
        "from collections import Counter\n",
        "\n",
        "\n",
        "print(\"Trước khi lấy mẫu ngược:-\")\n",
        "print(Counter(y_train))\n"
      ],
      "metadata": {
        "id": "LlM8PYy2KHxr",
        "colab": {
          "base_uri": "https://localhost:8080/"
        },
        "outputId": "c372ceee-82d6-4fed-b963-f0f9ff7d4ec0"
      },
      "execution_count": 32,
      "outputs": [
        {
          "output_type": "stream",
          "name": "stdout",
          "text": [
            "Trước khi lấy mẫu ngược:-\n",
            "Counter({5.0: 12160, 4.0: 3574, 3.0: 1080, 2.0: 402, 1.0: 327})\n"
          ]
        }
      ]
    },
    {
      "cell_type": "code",
      "source": [
        "# Su dung SMOTE de lay mau\n",
        "from imblearn.over_sampling import SMOTE\n",
        "oversample = SMOTE()\n",
        "X_train, y_train = oversample.fit_resample(X_train, y_train)\n",
        "\n",
        "print(\"Sau khi lấy mẫu ngược:-\")\n",
        "print(Counter(y_train))"
      ],
      "metadata": {
        "id": "6KyxqThZKhri",
        "colab": {
          "base_uri": "https://localhost:8080/"
        },
        "outputId": "18013563-54bf-4d0c-9b14-1895a1bde529"
      },
      "execution_count": 33,
      "outputs": [
        {
          "output_type": "stream",
          "name": "stdout",
          "text": [
            "Sau khi lấy mẫu ngược:-\n",
            "Counter({5.0: 12160, 4.0: 12160, 3.0: 12160, 2.0: 12160, 1.0: 12160})\n"
          ]
        }
      ]
    },
    {
      "cell_type": "markdown",
      "source": [
        "## TRAIN MODEL\n",
        "Ta sẽ đào tạo các mô hình khác nhau từ thư viện sklearn trên dữ liệu này và xem từng mô hình hoạt động như thế nào."
      ],
      "metadata": {
        "id": "eWxZwYoq84vU"
      }
    },
    {
      "cell_type": "code",
      "source": [
        "from sklearn.linear_model import LogisticRegression\n",
        "from sklearn.neighbors import KNeighborsClassifier\n",
        "from sklearn.tree import DecisionTreeClassifier\n",
        "from sklearn.ensemble import RandomForestClassifier, AdaBoostClassifier\n",
        "from sklearn.naive_bayes import GaussianNB\n",
        "from sklearn.discriminant_analysis import QuadraticDiscriminantAnalysis"
      ],
      "metadata": {
        "id": "cjjRAXYX_0kJ"
      },
      "execution_count": 88,
      "outputs": []
    },
    {
      "cell_type": "code",
      "source": [
        "names = [\"Logistic Regression\", \"Nearest Neighbors\",\n",
        "         \"Decision Tree\", \"Random Forest\", \"AdaBoost\",\n",
        "         \"Naive Bayes\", \"QDA\"]"
      ],
      "metadata": {
        "id": "j3Iv-jOF_2T7"
      },
      "execution_count": 89,
      "outputs": []
    },
    {
      "cell_type": "code",
      "source": [
        "classifiers = [\n",
        "    LogisticRegression(max_iter=300),\n",
        "    KNeighborsClassifier(),\n",
        "    DecisionTreeClassifier(max_depth=5, random_state=43),\n",
        "    RandomForestClassifier(max_depth=5, random_state=43),\n",
        "    AdaBoostClassifier(),\n",
        "    GaussianNB(),\n",
        "    QuadraticDiscriminantAnalysis()]"
      ],
      "metadata": {
        "id": "NozLfUl4_dPo"
      },
      "execution_count": 90,
      "outputs": []
    },
    {
      "cell_type": "code",
      "source": [
        "# iterate over classifiers\n",
        "for name, clf in zip(names, classifiers):\n",
        "    clf.fit(X_train, y_train)\n",
        "    score = clf.score(X_test, y_test)\n",
        "    print(f\"Accuracy of {name} Classifier is:{score}\")"
      ],
      "metadata": {
        "id": "5RVmXMq-_fJ5",
        "colab": {
          "base_uri": "https://localhost:8080/"
        },
        "outputId": "2e2f76d5-b4dd-4712-a7f6-7f2847580600"
      },
      "execution_count": 91,
      "outputs": [
        {
          "output_type": "stream",
          "name": "stdout",
          "text": [
            "Accuracy of Logistic Regression Classifier is:0.6215230278157775\n",
            "Accuracy of Nearest Neighbors Classifier is:0.17487460100319197\n",
            "Accuracy of Decision Tree Classifier is:0.4473324213406293\n",
            "Accuracy of Random Forest Classifier is:0.6356589147286822\n",
            "Accuracy of AdaBoost Classifier is:0.6101231190150479\n",
            "Accuracy of Naive Bayes Classifier is:0.6162790697674418\n",
            "Accuracy of QDA Classifier is:0.6999544003647971\n"
          ]
        }
      ]
    },
    {
      "cell_type": "markdown",
      "source": [
        "## Bây giờ hãy xem liệu chúng ta có thể cải thiện hiệu suất của các thuật toán này hay không."
      ],
      "metadata": {
        "id": "gNKodBPEFUPd"
      }
    },
    {
      "cell_type": "markdown",
      "source": [
        "## Chuẩn hóa các tính năng bằng cách loại bỏ giá trị trung bình và chia tỷ lệ thành phương sai đơn vị. Sẽ được sử dụng với một số thuật toán."
      ],
      "metadata": {
        "id": "YRq-14tCFV5Z"
      }
    },
    {
      "cell_type": "code",
      "source": [
        "from sklearn.preprocessing import StandardScaler\n",
        "\n",
        "scaler = StandardScaler()\n",
        "X_train_scaled = scaler.fit_transform(X_train)\n",
        "X_test_scaled = scaler.fit_transform(X_test)"
      ],
      "metadata": {
        "id": "cgoS3RniFbbe"
      },
      "execution_count": 92,
      "outputs": []
    },
    {
      "cell_type": "markdown",
      "source": [
        "## Logistic Regression"
      ],
      "metadata": {
        "id": "0c4tJSd7FiL2"
      }
    },
    {
      "cell_type": "code",
      "source": [
        "from sklearn.linear_model import LogisticRegression\n",
        "\n",
        "lr_model = LogisticRegression(random_state=43, class_weight={4: 2}, max_iter=800, n_jobs=-1)\n",
        "lr_model.fit(X_train, y_train)\n",
        "lr_accuracy = lr_model.score(X_test, y_test)\n",
        "print(f\"Accuracy of Logistic Regression Classifier is:{lr_accuracy}\")"
      ],
      "metadata": {
        "colab": {
          "base_uri": "https://localhost:8080/"
        },
        "id": "6jn1eSwjFjmF",
        "outputId": "3587f76c-01f1-4ef0-a55f-67db78609e9c"
      },
      "execution_count": 93,
      "outputs": [
        {
          "output_type": "stream",
          "name": "stdout",
          "text": [
            "Accuracy of Logistic Regression Classifier is:0.5592795257637939\n"
          ]
        }
      ]
    },
    {
      "cell_type": "markdown",
      "source": [
        "Ở đây, ta không thể cải thiện hiệu suất của thuật toán Logistic Regression"
      ],
      "metadata": {
        "id": "1dudjBgLOaXw"
      }
    },
    {
      "cell_type": "markdown",
      "source": [
        "## K Nearest Neighbor Algorithm"
      ],
      "metadata": {
        "id": "sTXQmcBaOpNQ"
      }
    },
    {
      "cell_type": "code",
      "source": [
        "from sklearn.neighbors import KNeighborsClassifier\n",
        "\n",
        "knn_model = KNeighborsClassifier(n_neighbors=3, n_jobs=-1)\n",
        "knn_model.fit(X_train_scaled, y_train)\n",
        "knn_accuracy = knn_model.score(X_test_scaled, y_test)\n",
        "print(f\"Accuracy of kNN Classifier is:{knn_accuracy}\")"
      ],
      "metadata": {
        "colab": {
          "base_uri": "https://localhost:8080/"
        },
        "id": "Y62_6sRWGvM-",
        "outputId": "42a20e05-1665-4a45-a8f1-cb0e154bd8b3"
      },
      "execution_count": 94,
      "outputs": [
        {
          "output_type": "stream",
          "name": "stdout",
          "text": [
            "Accuracy of kNN Classifier is:0.21409028727770177\n"
          ]
        }
      ]
    },
    {
      "cell_type": "markdown",
      "source": [
        "Ta đã cải thiện hơn` 4,25% về điểm chính xác tổng thể từ 17,49% lên 21,41%"
      ],
      "metadata": {
        "id": "LQMMkip0OsYl"
      }
    },
    {
      "cell_type": "markdown",
      "source": [
        "## Decision Trees"
      ],
      "metadata": {
        "id": "agXpEId6O-St"
      }
    },
    {
      "cell_type": "code",
      "source": [
        "from sklearn import tree\n",
        "\n",
        "tree_model = tree.DecisionTreeClassifier(class_weight={4: 2}, max_depth=4, random_state=43)\n",
        "tree_model.fit(X_train, y_train)\n",
        "\n",
        "tree_accuracy = tree_model.score(X_test, y_test)\n",
        "print(f\"Accuracy of Decision Tree Classifier is:{tree_accuracy}\")"
      ],
      "metadata": {
        "colab": {
          "base_uri": "https://localhost:8080/"
        },
        "id": "8kjpL6FCJILu",
        "outputId": "a505621c-576f-4141-d1b2-020777b0d3d2"
      },
      "execution_count": 95,
      "outputs": [
        {
          "output_type": "stream",
          "name": "stdout",
          "text": [
            "Accuracy of Decision Tree Classifier is:0.3593251253989968\n"
          ]
        }
      ]
    },
    {
      "cell_type": "markdown",
      "source": [
        "Ở đây, ta không thể cải thiện hiệu suất của thuật toán Decision Trees"
      ],
      "metadata": {
        "id": "tHNt_0ArPF9e"
      }
    },
    {
      "cell_type": "markdown",
      "source": [
        "## Random Forest"
      ],
      "metadata": {
        "id": "kt3xnXehU4bW"
      }
    },
    {
      "cell_type": "code",
      "source": [
        "from sklearn.ensemble import RandomForestClassifier\n",
        "\n",
        "rf_model = RandomForestClassifier(class_weight={4: 2}, max_depth=40, n_estimators=300, max_features=2, random_state=43, n_jobs=-1)\n",
        "rf_model.fit(X_train, y_train)\n",
        "\n",
        "rf_accuracy = rf_model.score(X_test, y_test)\n",
        "print(f\"Accuracy of Random Forest Classifier is:{rf_accuracy}\")"
      ],
      "metadata": {
        "colab": {
          "base_uri": "https://localhost:8080/"
        },
        "id": "ySMRCamJKP9U",
        "outputId": "02d7de83-fe65-49c3-a058-4687e8ac53a7"
      },
      "execution_count": 96,
      "outputs": [
        {
          "output_type": "stream",
          "name": "stdout",
          "text": [
            "Accuracy of Random Forest Classifier is:0.7583219334245326\n"
          ]
        }
      ]
    },
    {
      "cell_type": "markdown",
      "source": [
        "Ta đã cải thiện hơn` 12,26% về điểm chính xác tổng thể từ 63,57% lên 75,83% bằng cách thay đổi max_depth"
      ],
      "metadata": {
        "id": "PMKcPORdVCHt"
      }
    },
    {
      "cell_type": "markdown",
      "source": [
        "## AdaBoost"
      ],
      "metadata": {
        "id": "UvoOTFodVTfO"
      }
    },
    {
      "cell_type": "code",
      "source": [
        "from sklearn.ensemble import AdaBoostClassifier\n",
        "\n",
        "ada_model = AdaBoostClassifier(random_state=43, n_estimators=800)\n",
        "ada_model.fit(X_train, y_train)\n",
        "ada_accuracy = ada_model.score(X_test, y_test)\n",
        "print(f\"Accuracy of Ada Boost Classifier is:{ada_accuracy}\")"
      ],
      "metadata": {
        "colab": {
          "base_uri": "https://localhost:8080/"
        },
        "id": "yAutvNwbMLsg",
        "outputId": "7b276c20-c0bd-4576-b276-c44cfb21bd56"
      },
      "execution_count": 97,
      "outputs": [
        {
          "output_type": "stream",
          "name": "stdout",
          "text": [
            "Accuracy of Ada Boost Classifier is:0.65640674874601\n"
          ]
        }
      ]
    },
    {
      "cell_type": "markdown",
      "source": [
        "Ta đã cải thiện hơn`4,63% về điểm chính xác tổng thể từ 60,01% lên 65,64%"
      ],
      "metadata": {
        "id": "mbeBib_uVYZ-"
      }
    },
    {
      "cell_type": "markdown",
      "source": [
        "## Gaussian Naive Bayes"
      ],
      "metadata": {
        "id": "isCwUkAmVl7R"
      }
    },
    {
      "cell_type": "code",
      "source": [
        "from sklearn.naive_bayes import GaussianNB\n",
        "\n",
        "gnb_model = GaussianNB()\n",
        "gnb_model.fit(X_train, y_train)\n",
        "gnb_accuracy = gnb_model.score(X_test, y_test)\n",
        "print(f\"Accuracy of Gaussian Naive Bayes Classifier is:{gnb_accuracy}\")"
      ],
      "metadata": {
        "colab": {
          "base_uri": "https://localhost:8080/"
        },
        "id": "IyFp4x1uNV6v",
        "outputId": "787c71d9-fdc2-47d9-f0a0-bfbbf2a294a9"
      },
      "execution_count": 98,
      "outputs": [
        {
          "output_type": "stream",
          "name": "stdout",
          "text": [
            "Accuracy of Gaussian Naive Bayes Classifier is:0.6162790697674418\n"
          ]
        }
      ]
    },
    {
      "cell_type": "markdown",
      "source": [
        "Ở đây, ta không thể cải thiện hiệu suất của thuật toán Gaussian Naive Bayes"
      ],
      "metadata": {
        "id": "r3De98hrVtCw"
      }
    },
    {
      "cell_type": "markdown",
      "source": [
        "## Quadratic Discriminant Analysis"
      ],
      "metadata": {
        "id": "oDFh18JGV13D"
      }
    },
    {
      "cell_type": "code",
      "source": [
        "from sklearn.discriminant_analysis import QuadraticDiscriminantAnalysis\n",
        "\n",
        "qda_model = QuadraticDiscriminantAnalysis()\n",
        "qda_model.fit(X_train, y_train)\n",
        "qda_accuracy = qda_model.score(X_test, y_test)\n",
        "print(f\"Accuracy of Quadratic Discriminant Analysis Classifier is:{qda_accuracy}\")"
      ],
      "metadata": {
        "colab": {
          "base_uri": "https://localhost:8080/"
        },
        "id": "F6V5Wh2ANYsG",
        "outputId": "d9a5398f-185c-4411-a65b-fa5ddba9f59a"
      },
      "execution_count": 99,
      "outputs": [
        {
          "output_type": "stream",
          "name": "stdout",
          "text": [
            "Accuracy of Quadratic Discriminant Analysis Classifier is:0.6999544003647971\n"
          ]
        }
      ]
    },
    {
      "cell_type": "markdown",
      "source": [
        "Ở đây, ta không thể cải thiện hiệu suất của thuật toán Quadratic Discriminant Analysis"
      ],
      "metadata": {
        "id": "YINh0cMKV8aU"
      }
    }
  ]
}