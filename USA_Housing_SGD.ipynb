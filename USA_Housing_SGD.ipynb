{
  "nbformat": 4,
  "nbformat_minor": 0,
  "metadata": {
    "colab": {
      "provenance": [],
      "authorship_tag": "ABX9TyP4rW27oVHxu2VMny0IZN/K",
      "include_colab_link": true
    },
    "kernelspec": {
      "name": "python3",
      "display_name": "Python 3"
    },
    "language_info": {
      "name": "python"
    }
  },
  "cells": [
    {
      "cell_type": "markdown",
      "metadata": {
        "id": "view-in-github",
        "colab_type": "text"
      },
      "source": [
        "<a href=\"https://colab.research.google.com/github/TranThiDieuHien/Cac-thuat-toan-toi-uu/blob/main/USA_Housing_SGD.ipynb\" target=\"_parent\"><img src=\"https://colab.research.google.com/assets/colab-badge.svg\" alt=\"Open In Colab\"/></a>"
      ]
    },
    {
      "cell_type": "markdown",
      "source": [
        "Importing libraries\n"
      ],
      "metadata": {
        "id": "8T495Ad64Tkq"
      }
    },
    {
      "cell_type": "code",
      "execution_count": 11,
      "metadata": {
        "id": "4RTPVC9YzHjm"
      },
      "outputs": [],
      "source": [
        "import numpy as np\n",
        "import pandas as pd\n",
        "from sklearn.linear_model import SGDRegressor\n",
        "from sklearn.model_selection import train_test_split,KFold\n",
        "from sklearn.metrics import mean_squared_error,mean_absolute_error\n",
        "from sklearn.preprocessing import StandardScaler"
      ]
    },
    {
      "cell_type": "markdown",
      "source": [
        "Importing the dataset"
      ],
      "metadata": {
        "id": "CEJCCPE04SXp"
      }
    },
    {
      "cell_type": "code",
      "source": [
        "USAhousing = pd.read_csv('USA_Housing.csv')\n",
        "print(USAhousing.head())"
      ],
      "metadata": {
        "colab": {
          "base_uri": "https://localhost:8080/"
        },
        "id": "ooQdPVOCzSzy",
        "outputId": "c3d8a20d-0408-4593-c234-d4f7991acced"
      },
      "execution_count": 2,
      "outputs": [
        {
          "output_type": "stream",
          "name": "stdout",
          "text": [
            "   Avg. Area Income  Avg. Area House Age  Avg. Area Number of Rooms  \\\n",
            "0      79545.458574             5.682861                   7.009188   \n",
            "1      79248.642455             6.002900                   6.730821   \n",
            "2      61287.067179             5.865890                   8.512727   \n",
            "3      63345.240046             7.188236                   5.586729   \n",
            "4      59982.197226             5.040555                   7.839388   \n",
            "\n",
            "   Avg. Area Number of Bedrooms  Area Population         Price  \\\n",
            "0                          4.09     23086.800503  1.059034e+06   \n",
            "1                          3.09     40173.072174  1.505891e+06   \n",
            "2                          5.13     36882.159400  1.058988e+06   \n",
            "3                          3.26     34310.242831  1.260617e+06   \n",
            "4                          4.23     26354.109472  6.309435e+05   \n",
            "\n",
            "                                             Address  \n",
            "0  208 Michael Ferry Apt. 674\\nLaurabury, NE 3701...  \n",
            "1  188 Johnson Views Suite 079\\nLake Kathleen, CA...  \n",
            "2  9127 Elizabeth Stravenue\\nDanieltown, WI 06482...  \n",
            "3                          USS Barnett\\nFPO AP 44820  \n",
            "4                         USNS Raymond\\nFPO AE 09386  \n"
          ]
        }
      ]
    },
    {
      "cell_type": "code",
      "source": [
        "print(USAhousing.info())"
      ],
      "metadata": {
        "colab": {
          "base_uri": "https://localhost:8080/"
        },
        "id": "OLWjifYTzVnJ",
        "outputId": "9a9c7177-b728-45d3-ec42-f423c3adc9d7"
      },
      "execution_count": 3,
      "outputs": [
        {
          "output_type": "stream",
          "name": "stdout",
          "text": [
            "<class 'pandas.core.frame.DataFrame'>\n",
            "RangeIndex: 5000 entries, 0 to 4999\n",
            "Data columns (total 7 columns):\n",
            " #   Column                        Non-Null Count  Dtype  \n",
            "---  ------                        --------------  -----  \n",
            " 0   Avg. Area Income              5000 non-null   float64\n",
            " 1   Avg. Area House Age           5000 non-null   float64\n",
            " 2   Avg. Area Number of Rooms     5000 non-null   float64\n",
            " 3   Avg. Area Number of Bedrooms  5000 non-null   float64\n",
            " 4   Area Population               5000 non-null   float64\n",
            " 5   Price                         5000 non-null   float64\n",
            " 6   Address                       5000 non-null   object \n",
            "dtypes: float64(6), object(1)\n",
            "memory usage: 273.6+ KB\n",
            "None\n"
          ]
        }
      ]
    },
    {
      "cell_type": "code",
      "source": [
        "print(USAhousing.describe())"
      ],
      "metadata": {
        "colab": {
          "base_uri": "https://localhost:8080/"
        },
        "id": "HCxMzeWDzXQi",
        "outputId": "fb9c914d-196b-469e-ab8a-25aa39823ed5"
      },
      "execution_count": 4,
      "outputs": [
        {
          "output_type": "stream",
          "name": "stdout",
          "text": [
            "       Avg. Area Income  Avg. Area House Age  Avg. Area Number of Rooms  \\\n",
            "count       5000.000000          5000.000000                5000.000000   \n",
            "mean       68583.108984             5.977222                   6.987792   \n",
            "std        10657.991214             0.991456                   1.005833   \n",
            "min        17796.631190             2.644304                   3.236194   \n",
            "25%        61480.562388             5.322283                   6.299250   \n",
            "50%        68804.286404             5.970429                   7.002902   \n",
            "75%        75783.338666             6.650808                   7.665871   \n",
            "max       107701.748378             9.519088                  10.759588   \n",
            "\n",
            "       Avg. Area Number of Bedrooms  Area Population         Price  \n",
            "count                   5000.000000      5000.000000  5.000000e+03  \n",
            "mean                       3.981330     36163.516039  1.232073e+06  \n",
            "std                        1.234137      9925.650114  3.531176e+05  \n",
            "min                        2.000000       172.610686  1.593866e+04  \n",
            "25%                        3.140000     29403.928702  9.975771e+05  \n",
            "50%                        4.050000     36199.406689  1.232669e+06  \n",
            "75%                        4.490000     42861.290769  1.471210e+06  \n",
            "max                        6.500000     69621.713378  2.469066e+06  \n"
          ]
        }
      ]
    },
    {
      "cell_type": "code",
      "source": [
        "print(USAhousing.columns)"
      ],
      "metadata": {
        "colab": {
          "base_uri": "https://localhost:8080/"
        },
        "id": "39SVGB50zZAy",
        "outputId": "e123be52-3daf-4243-f6c1-a6acd199e371"
      },
      "execution_count": 5,
      "outputs": [
        {
          "output_type": "stream",
          "name": "stdout",
          "text": [
            "Index(['Avg. Area Income', 'Avg. Area House Age', 'Avg. Area Number of Rooms',\n",
            "       'Avg. Area Number of Bedrooms', 'Area Population', 'Price', 'Address'],\n",
            "      dtype='object')\n"
          ]
        }
      ]
    },
    {
      "cell_type": "code",
      "source": [
        "x = USAhousing.drop(axis=1,columns=['Price','Address']).to_numpy()"
      ],
      "metadata": {
        "id": "qkP2xJY7z3Or"
      },
      "execution_count": 7,
      "outputs": []
    },
    {
      "cell_type": "code",
      "source": [
        "y = USAhousing['Price'].to_numpy()"
      ],
      "metadata": {
        "id": "Zt1dQrTO0wl5"
      },
      "execution_count": 9,
      "outputs": []
    },
    {
      "cell_type": "markdown",
      "source": [
        "Scaling the feature data"
      ],
      "metadata": {
        "id": "wvB1qMP34MPx"
      }
    },
    {
      "cell_type": "code",
      "source": [
        "std = StandardScaler()\n",
        "x = std.fit_transform(x)"
      ],
      "metadata": {
        "id": "SLkS0yBQ0zWi"
      },
      "execution_count": 12,
      "outputs": []
    },
    {
      "cell_type": "markdown",
      "source": [
        "SGDRegressor"
      ],
      "metadata": {
        "id": "CQ6Qt3_d4Jy5"
      }
    },
    {
      "cell_type": "code",
      "source": [
        "reg = SGDRegressor(random_state=0)"
      ],
      "metadata": {
        "id": "HrTzknxr09Kq"
      },
      "execution_count": 13,
      "outputs": []
    },
    {
      "cell_type": "markdown",
      "source": [
        "KFold Method"
      ],
      "metadata": {
        "id": "3sgflFDl4D0C"
      }
    },
    {
      "cell_type": "code",
      "source": [
        "error = []\n",
        "for n in range(50):\n",
        "    kf = KFold(n_splits=5,random_state=n,shuffle=True)\n",
        "    for i,j in kf.split(x,y):\n",
        "        X_train,X_test = x[i],x[j]\n",
        "        y_train,y_test = y[i],y[j]\n",
        "    reg.fit(X_train,y_train)\n",
        "    pred = reg.predict(X_test)\n",
        "    error.append(mean_squared_error(y_test,pred))\n",
        "print(\"Best Seed Error : \",min(error),\" Seed : \",error.index(min(error)))"
      ],
      "metadata": {
        "colab": {
          "base_uri": "https://localhost:8080/"
        },
        "id": "1CEV9Yf512A5",
        "outputId": "466463f3-3c70-4e15-b423-425f9c8dda90"
      },
      "execution_count": 14,
      "outputs": [
        {
          "output_type": "stream",
          "name": "stdout",
          "text": [
            "Best Seed Error :  9156581905.394428  Seed :  3\n"
          ]
        }
      ]
    },
    {
      "cell_type": "markdown",
      "source": [
        "Best seed to KFold"
      ],
      "metadata": {
        "id": "v_4Nn2JP3kWq"
      }
    },
    {
      "cell_type": "code",
      "source": [
        "kf = KFold(n_splits=5,random_state=3,shuffle=True)\n",
        "for i,j in kf.split(x,y):\n",
        "    X_train,X_test = x[i],x[j]\n",
        "    y_train,y_test = y[i],y[j]"
      ],
      "metadata": {
        "id": "7inEJXiH13d5"
      },
      "execution_count": 15,
      "outputs": []
    },
    {
      "cell_type": "markdown",
      "source": [
        "Fitting and Predicting"
      ],
      "metadata": {
        "id": "PtoS9CSu3c5x"
      }
    },
    {
      "cell_type": "code",
      "source": [
        "reg.fit(X_train,y_train)"
      ],
      "metadata": {
        "colab": {
          "base_uri": "https://localhost:8080/",
          "height": 75
        },
        "id": "7Sz0TAQT17Ah",
        "outputId": "7757abfd-dce3-47ca-d919-123e4e8e804d"
      },
      "execution_count": 19,
      "outputs": [
        {
          "output_type": "execute_result",
          "data": {
            "text/plain": [
              "SGDRegressor(random_state=0)"
            ],
            "text/html": [
              "<style>#sk-container-id-2 {color: black;background-color: white;}#sk-container-id-2 pre{padding: 0;}#sk-container-id-2 div.sk-toggleable {background-color: white;}#sk-container-id-2 label.sk-toggleable__label {cursor: pointer;display: block;width: 100%;margin-bottom: 0;padding: 0.3em;box-sizing: border-box;text-align: center;}#sk-container-id-2 label.sk-toggleable__label-arrow:before {content: \"▸\";float: left;margin-right: 0.25em;color: #696969;}#sk-container-id-2 label.sk-toggleable__label-arrow:hover:before {color: black;}#sk-container-id-2 div.sk-estimator:hover label.sk-toggleable__label-arrow:before {color: black;}#sk-container-id-2 div.sk-toggleable__content {max-height: 0;max-width: 0;overflow: hidden;text-align: left;background-color: #f0f8ff;}#sk-container-id-2 div.sk-toggleable__content pre {margin: 0.2em;color: black;border-radius: 0.25em;background-color: #f0f8ff;}#sk-container-id-2 input.sk-toggleable__control:checked~div.sk-toggleable__content {max-height: 200px;max-width: 100%;overflow: auto;}#sk-container-id-2 input.sk-toggleable__control:checked~label.sk-toggleable__label-arrow:before {content: \"▾\";}#sk-container-id-2 div.sk-estimator input.sk-toggleable__control:checked~label.sk-toggleable__label {background-color: #d4ebff;}#sk-container-id-2 div.sk-label input.sk-toggleable__control:checked~label.sk-toggleable__label {background-color: #d4ebff;}#sk-container-id-2 input.sk-hidden--visually {border: 0;clip: rect(1px 1px 1px 1px);clip: rect(1px, 1px, 1px, 1px);height: 1px;margin: -1px;overflow: hidden;padding: 0;position: absolute;width: 1px;}#sk-container-id-2 div.sk-estimator {font-family: monospace;background-color: #f0f8ff;border: 1px dotted black;border-radius: 0.25em;box-sizing: border-box;margin-bottom: 0.5em;}#sk-container-id-2 div.sk-estimator:hover {background-color: #d4ebff;}#sk-container-id-2 div.sk-parallel-item::after {content: \"\";width: 100%;border-bottom: 1px solid gray;flex-grow: 1;}#sk-container-id-2 div.sk-label:hover label.sk-toggleable__label {background-color: #d4ebff;}#sk-container-id-2 div.sk-serial::before {content: \"\";position: absolute;border-left: 1px solid gray;box-sizing: border-box;top: 0;bottom: 0;left: 50%;z-index: 0;}#sk-container-id-2 div.sk-serial {display: flex;flex-direction: column;align-items: center;background-color: white;padding-right: 0.2em;padding-left: 0.2em;position: relative;}#sk-container-id-2 div.sk-item {position: relative;z-index: 1;}#sk-container-id-2 div.sk-parallel {display: flex;align-items: stretch;justify-content: center;background-color: white;position: relative;}#sk-container-id-2 div.sk-item::before, #sk-container-id-2 div.sk-parallel-item::before {content: \"\";position: absolute;border-left: 1px solid gray;box-sizing: border-box;top: 0;bottom: 0;left: 50%;z-index: -1;}#sk-container-id-2 div.sk-parallel-item {display: flex;flex-direction: column;z-index: 1;position: relative;background-color: white;}#sk-container-id-2 div.sk-parallel-item:first-child::after {align-self: flex-end;width: 50%;}#sk-container-id-2 div.sk-parallel-item:last-child::after {align-self: flex-start;width: 50%;}#sk-container-id-2 div.sk-parallel-item:only-child::after {width: 0;}#sk-container-id-2 div.sk-dashed-wrapped {border: 1px dashed gray;margin: 0 0.4em 0.5em 0.4em;box-sizing: border-box;padding-bottom: 0.4em;background-color: white;}#sk-container-id-2 div.sk-label label {font-family: monospace;font-weight: bold;display: inline-block;line-height: 1.2em;}#sk-container-id-2 div.sk-label-container {text-align: center;}#sk-container-id-2 div.sk-container {/* jupyter's `normalize.less` sets `[hidden] { display: none; }` but bootstrap.min.css set `[hidden] { display: none !important; }` so we also need the `!important` here to be able to override the default hidden behavior on the sphinx rendered scikit-learn.org. See: https://github.com/scikit-learn/scikit-learn/issues/21755 */display: inline-block !important;position: relative;}#sk-container-id-2 div.sk-text-repr-fallback {display: none;}</style><div id=\"sk-container-id-2\" class=\"sk-top-container\"><div class=\"sk-text-repr-fallback\"><pre>SGDRegressor(random_state=0)</pre><b>In a Jupyter environment, please rerun this cell to show the HTML representation or trust the notebook. <br />On GitHub, the HTML representation is unable to render, please try loading this page with nbviewer.org.</b></div><div class=\"sk-container\" hidden><div class=\"sk-item\"><div class=\"sk-estimator sk-toggleable\"><input class=\"sk-toggleable__control sk-hidden--visually\" id=\"sk-estimator-id-2\" type=\"checkbox\" checked><label for=\"sk-estimator-id-2\" class=\"sk-toggleable__label sk-toggleable__label-arrow\">SGDRegressor</label><div class=\"sk-toggleable__content\"><pre>SGDRegressor(random_state=0)</pre></div></div></div></div></div>"
            ]
          },
          "metadata": {},
          "execution_count": 19
        }
      ]
    },
    {
      "cell_type": "code",
      "source": [
        "pred = reg.predict(X_test)"
      ],
      "metadata": {
        "id": "x52qB4YE2Eba"
      },
      "execution_count": 20,
      "outputs": []
    },
    {
      "cell_type": "markdown",
      "source": [
        "Model's Score"
      ],
      "metadata": {
        "id": "HSWZ7Gy03Yfp"
      }
    },
    {
      "cell_type": "code",
      "source": [
        "reg.score(X_test,y_test)"
      ],
      "metadata": {
        "colab": {
          "base_uri": "https://localhost:8080/"
        },
        "id": "h6ty17Wz2Hqp",
        "outputId": "72a0b392-1a8c-4c5a-9240-86483f2b675e"
      },
      "execution_count": 21,
      "outputs": [
        {
          "output_type": "execute_result",
          "data": {
            "text/plain": [
              "0.9220415022604043"
            ]
          },
          "metadata": {},
          "execution_count": 21
        }
      ]
    }
  ]
}